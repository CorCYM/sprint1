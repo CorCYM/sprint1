{
 "cells": [
  {
   "cell_type": "code",
   "execution_count": 155,
   "id": "06cda584-2b96-497e-99c1-1152dffd4b1d",
   "metadata": {
    "tags": []
   },
   "outputs": [],
   "source": [
    "from matplotlib import font_manager, rc\n",
    "import matplotlib\n",
    "import matplotlib.pyplot as plt\n",
    "import seaborn as sns\n",
    "import pandas as pd\n",
    "import numpy as np\n",
    "import platform\n",
    "from sklearn.linear_model import LinearRegression\n",
    "from sklearn.model_selection import train_test_split\n",
    "from sklearn.metrics import mean_squared_error, r2_score"
   ]
  },
  {
   "cell_type": "code",
   "execution_count": 156,
   "id": "f300072e-53e5-4dac-bcab-2415d56c2db8",
   "metadata": {
    "tags": []
   },
   "outputs": [
    {
     "data": {
      "text/html": [
       "<div>\n",
       "<style scoped>\n",
       "    .dataframe tbody tr th:only-of-type {\n",
       "        vertical-align: middle;\n",
       "    }\n",
       "\n",
       "    .dataframe tbody tr th {\n",
       "        vertical-align: top;\n",
       "    }\n",
       "\n",
       "    .dataframe thead th {\n",
       "        text-align: right;\n",
       "    }\n",
       "</style>\n",
       "<table border=\"1\" class=\"dataframe\">\n",
       "  <thead>\n",
       "    <tr style=\"text-align: right;\">\n",
       "      <th></th>\n",
       "      <th>날짜</th>\n",
       "      <th>시간</th>\n",
       "      <th>기온(°C)</th>\n",
       "      <th>강수량(mm)</th>\n",
       "      <th>풍속(m/s)</th>\n",
       "      <th>습도(%)</th>\n",
       "    </tr>\n",
       "  </thead>\n",
       "  <tbody>\n",
       "    <tr>\n",
       "      <th>0</th>\n",
       "      <td>2017-06-01</td>\n",
       "      <td>0:00</td>\n",
       "      <td>21.4</td>\n",
       "      <td>0.0</td>\n",
       "      <td>1.8</td>\n",
       "      <td>74.0</td>\n",
       "    </tr>\n",
       "    <tr>\n",
       "      <th>1</th>\n",
       "      <td>2017-06-01</td>\n",
       "      <td>1:00</td>\n",
       "      <td>21.5</td>\n",
       "      <td>0.0</td>\n",
       "      <td>0.9</td>\n",
       "      <td>75.0</td>\n",
       "    </tr>\n",
       "    <tr>\n",
       "      <th>2</th>\n",
       "      <td>2017-06-01</td>\n",
       "      <td>2:00</td>\n",
       "      <td>21.3</td>\n",
       "      <td>0.0</td>\n",
       "      <td>1.7</td>\n",
       "      <td>77.0</td>\n",
       "    </tr>\n",
       "    <tr>\n",
       "      <th>3</th>\n",
       "      <td>2017-06-01</td>\n",
       "      <td>3:00</td>\n",
       "      <td>20.9</td>\n",
       "      <td>0.0</td>\n",
       "      <td>2.4</td>\n",
       "      <td>81.0</td>\n",
       "    </tr>\n",
       "    <tr>\n",
       "      <th>4</th>\n",
       "      <td>2017-06-01</td>\n",
       "      <td>4:00</td>\n",
       "      <td>20.6</td>\n",
       "      <td>0.0</td>\n",
       "      <td>1.1</td>\n",
       "      <td>82.0</td>\n",
       "    </tr>\n",
       "    <tr>\n",
       "      <th>...</th>\n",
       "      <td>...</td>\n",
       "      <td>...</td>\n",
       "      <td>...</td>\n",
       "      <td>...</td>\n",
       "      <td>...</td>\n",
       "      <td>...</td>\n",
       "    </tr>\n",
       "    <tr>\n",
       "      <th>11035</th>\n",
       "      <td>2021-08-31</td>\n",
       "      <td>19:00</td>\n",
       "      <td>18.1</td>\n",
       "      <td>3.8</td>\n",
       "      <td>3.9</td>\n",
       "      <td>98.0</td>\n",
       "    </tr>\n",
       "    <tr>\n",
       "      <th>11036</th>\n",
       "      <td>2021-08-31</td>\n",
       "      <td>20:00</td>\n",
       "      <td>18.1</td>\n",
       "      <td>1.6</td>\n",
       "      <td>4.3</td>\n",
       "      <td>99.0</td>\n",
       "    </tr>\n",
       "    <tr>\n",
       "      <th>11037</th>\n",
       "      <td>2021-08-31</td>\n",
       "      <td>21:00</td>\n",
       "      <td>18.1</td>\n",
       "      <td>3.6</td>\n",
       "      <td>3.8</td>\n",
       "      <td>99.0</td>\n",
       "    </tr>\n",
       "    <tr>\n",
       "      <th>11038</th>\n",
       "      <td>2021-08-31</td>\n",
       "      <td>22:00</td>\n",
       "      <td>18.3</td>\n",
       "      <td>2.1</td>\n",
       "      <td>3.3</td>\n",
       "      <td>100.0</td>\n",
       "    </tr>\n",
       "    <tr>\n",
       "      <th>11039</th>\n",
       "      <td>2021-08-31</td>\n",
       "      <td>23:00</td>\n",
       "      <td>18.5</td>\n",
       "      <td>7.8</td>\n",
       "      <td>2.6</td>\n",
       "      <td>100.0</td>\n",
       "    </tr>\n",
       "  </tbody>\n",
       "</table>\n",
       "<p>11040 rows × 6 columns</p>\n",
       "</div>"
      ],
      "text/plain": [
       "               날짜     시간  기온(°C)  강수량(mm)  풍속(m/s)  습도(%)\n",
       "0      2017-06-01   0:00    21.4      0.0      1.8   74.0\n",
       "1      2017-06-01   1:00    21.5      0.0      0.9   75.0\n",
       "2      2017-06-01   2:00    21.3      0.0      1.7   77.0\n",
       "3      2017-06-01   3:00    20.9      0.0      2.4   81.0\n",
       "4      2017-06-01   4:00    20.6      0.0      1.1   82.0\n",
       "...           ...    ...     ...      ...      ...    ...\n",
       "11035  2021-08-31  19:00    18.1      3.8      3.9   98.0\n",
       "11036  2021-08-31  20:00    18.1      1.6      4.3   99.0\n",
       "11037  2021-08-31  21:00    18.1      3.6      3.8   99.0\n",
       "11038  2021-08-31  22:00    18.3      2.1      3.3  100.0\n",
       "11039  2021-08-31  23:00    18.5      7.8      2.6  100.0\n",
       "\n",
       "[11040 rows x 6 columns]"
      ]
     },
     "execution_count": 156,
     "metadata": {},
     "output_type": "execute_result"
    }
   ],
   "source": [
    "tem1721 = pd.read_csv(\"data/5년기온데이터_전처리.csv\").drop(['Unnamed: 0'], axis=1)\n",
    "tem17210608 = tem1721[tem1721['날짜'].str.contains(\n",
    "    \"2017-06|2017-07|2017-08|2018-06|2018-07|2018-08|2019-06|2019-07|2019-08|2020-06|2020-07|2020-08|2021-06|2021-07|2021-08\")].reset_index()\n",
    "tem17210608.drop('index',axis=1, inplace=True)\n",
    "# tem17210608 = tem17210608[tem17210608[\"기온(°C)\"] > 12]\n",
    "tem17210608"
   ]
  },
  {
   "cell_type": "code",
   "execution_count": 157,
   "id": "98c56cc6-e333-4166-a900-0b72b57d094b",
   "metadata": {
    "tags": []
   },
   "outputs": [
    {
     "data": {
      "text/html": [
       "<div>\n",
       "<style scoped>\n",
       "    .dataframe tbody tr th:only-of-type {\n",
       "        vertical-align: middle;\n",
       "    }\n",
       "\n",
       "    .dataframe tbody tr th {\n",
       "        vertical-align: top;\n",
       "    }\n",
       "\n",
       "    .dataframe thead th {\n",
       "        text-align: right;\n",
       "    }\n",
       "</style>\n",
       "<table border=\"1\" class=\"dataframe\">\n",
       "  <thead>\n",
       "    <tr style=\"text-align: right;\">\n",
       "      <th></th>\n",
       "      <th>날짜</th>\n",
       "      <th>시간</th>\n",
       "      <th>수요량</th>\n",
       "    </tr>\n",
       "  </thead>\n",
       "  <tbody>\n",
       "    <tr>\n",
       "      <th>0</th>\n",
       "      <td>2017-06-01</td>\n",
       "      <td>00:00</td>\n",
       "      <td>58038</td>\n",
       "    </tr>\n",
       "    <tr>\n",
       "      <th>1</th>\n",
       "      <td>2017-06-01</td>\n",
       "      <td>01:00</td>\n",
       "      <td>54763</td>\n",
       "    </tr>\n",
       "    <tr>\n",
       "      <th>2</th>\n",
       "      <td>2017-06-01</td>\n",
       "      <td>02:00</td>\n",
       "      <td>52836</td>\n",
       "    </tr>\n",
       "    <tr>\n",
       "      <th>3</th>\n",
       "      <td>2017-06-01</td>\n",
       "      <td>03:00</td>\n",
       "      <td>51956</td>\n",
       "    </tr>\n",
       "    <tr>\n",
       "      <th>4</th>\n",
       "      <td>2017-06-01</td>\n",
       "      <td>04:00</td>\n",
       "      <td>51299</td>\n",
       "    </tr>\n",
       "    <tr>\n",
       "      <th>...</th>\n",
       "      <td>...</td>\n",
       "      <td>...</td>\n",
       "      <td>...</td>\n",
       "    </tr>\n",
       "    <tr>\n",
       "      <th>11035</th>\n",
       "      <td>2021-08-31</td>\n",
       "      <td>19:00</td>\n",
       "      <td>74786</td>\n",
       "    </tr>\n",
       "    <tr>\n",
       "      <th>11036</th>\n",
       "      <td>2021-08-31</td>\n",
       "      <td>20:00</td>\n",
       "      <td>74099</td>\n",
       "    </tr>\n",
       "    <tr>\n",
       "      <th>11037</th>\n",
       "      <td>2021-08-31</td>\n",
       "      <td>21:00</td>\n",
       "      <td>71232</td>\n",
       "    </tr>\n",
       "    <tr>\n",
       "      <th>11038</th>\n",
       "      <td>2021-08-31</td>\n",
       "      <td>22:00</td>\n",
       "      <td>68114</td>\n",
       "    </tr>\n",
       "    <tr>\n",
       "      <th>11039</th>\n",
       "      <td>2021-08-31</td>\n",
       "      <td>23:00</td>\n",
       "      <td>64780</td>\n",
       "    </tr>\n",
       "  </tbody>\n",
       "</table>\n",
       "<p>11040 rows × 3 columns</p>\n",
       "</div>"
      ],
      "text/plain": [
       "               날짜     시간    수요량\n",
       "0      2017-06-01  00:00  58038\n",
       "1      2017-06-01  01:00  54763\n",
       "2      2017-06-01  02:00  52836\n",
       "3      2017-06-01  03:00  51956\n",
       "4      2017-06-01  04:00  51299\n",
       "...           ...    ...    ...\n",
       "11035  2021-08-31  19:00  74786\n",
       "11036  2021-08-31  20:00  74099\n",
       "11037  2021-08-31  21:00  71232\n",
       "11038  2021-08-31  22:00  68114\n",
       "11039  2021-08-31  23:00  64780\n",
       "\n",
       "[11040 rows x 3 columns]"
      ]
     },
     "execution_count": 157,
     "metadata": {},
     "output_type": "execute_result"
    }
   ],
   "source": [
    "elec1721=pd.read_csv(\"data/fintime17_21_df.csv\")\n",
    "elec17210608 = elec1721[elec1721['날짜'].str.contains(\n",
    "    \"2017-06|2017-07|2017-08|2018-06|2018-07|2018-08|2019-06|2019-07|2019-08|2020-06|2020-07|2020-08|2021-06|2021-07|2021-08\")].reset_index()\n",
    "elec17210608.drop('index',axis=1, inplace=True)\n",
    "elec17210608"
   ]
  },
  {
   "cell_type": "code",
   "execution_count": 158,
   "id": "9d698323-f8c8-4fa6-b99b-9b3ac9f75d38",
   "metadata": {
    "tags": []
   },
   "outputs": [],
   "source": [
    "tem17210608.drop(['시간'], axis=1, inplace=True)\n",
    "elec17210608.drop(['날짜'], axis=1, inplace=True)"
   ]
  },
  {
   "cell_type": "code",
   "execution_count": 159,
   "id": "4f8d4bab-1982-4947-ba19-f07d4d9020ae",
   "metadata": {
    "tags": []
   },
   "outputs": [
    {
     "data": {
      "text/html": [
       "<div>\n",
       "<style scoped>\n",
       "    .dataframe tbody tr th:only-of-type {\n",
       "        vertical-align: middle;\n",
       "    }\n",
       "\n",
       "    .dataframe tbody tr th {\n",
       "        vertical-align: top;\n",
       "    }\n",
       "\n",
       "    .dataframe thead th {\n",
       "        text-align: right;\n",
       "    }\n",
       "</style>\n",
       "<table border=\"1\" class=\"dataframe\">\n",
       "  <thead>\n",
       "    <tr style=\"text-align: right;\">\n",
       "      <th></th>\n",
       "      <th>날짜</th>\n",
       "      <th>기온(°C)</th>\n",
       "      <th>강수량(mm)</th>\n",
       "      <th>풍속(m/s)</th>\n",
       "      <th>습도(%)</th>\n",
       "      <th>시간</th>\n",
       "      <th>수요량</th>\n",
       "    </tr>\n",
       "  </thead>\n",
       "  <tbody>\n",
       "    <tr>\n",
       "      <th>0</th>\n",
       "      <td>2017-06-01</td>\n",
       "      <td>21.4</td>\n",
       "      <td>0.0</td>\n",
       "      <td>1.8</td>\n",
       "      <td>74.0</td>\n",
       "      <td>00:00</td>\n",
       "      <td>58038</td>\n",
       "    </tr>\n",
       "    <tr>\n",
       "      <th>1</th>\n",
       "      <td>2017-06-01</td>\n",
       "      <td>21.5</td>\n",
       "      <td>0.0</td>\n",
       "      <td>0.9</td>\n",
       "      <td>75.0</td>\n",
       "      <td>01:00</td>\n",
       "      <td>54763</td>\n",
       "    </tr>\n",
       "    <tr>\n",
       "      <th>2</th>\n",
       "      <td>2017-06-01</td>\n",
       "      <td>21.3</td>\n",
       "      <td>0.0</td>\n",
       "      <td>1.7</td>\n",
       "      <td>77.0</td>\n",
       "      <td>02:00</td>\n",
       "      <td>52836</td>\n",
       "    </tr>\n",
       "    <tr>\n",
       "      <th>3</th>\n",
       "      <td>2017-06-01</td>\n",
       "      <td>20.9</td>\n",
       "      <td>0.0</td>\n",
       "      <td>2.4</td>\n",
       "      <td>81.0</td>\n",
       "      <td>03:00</td>\n",
       "      <td>51956</td>\n",
       "    </tr>\n",
       "    <tr>\n",
       "      <th>4</th>\n",
       "      <td>2017-06-01</td>\n",
       "      <td>20.6</td>\n",
       "      <td>0.0</td>\n",
       "      <td>1.1</td>\n",
       "      <td>82.0</td>\n",
       "      <td>04:00</td>\n",
       "      <td>51299</td>\n",
       "    </tr>\n",
       "    <tr>\n",
       "      <th>...</th>\n",
       "      <td>...</td>\n",
       "      <td>...</td>\n",
       "      <td>...</td>\n",
       "      <td>...</td>\n",
       "      <td>...</td>\n",
       "      <td>...</td>\n",
       "      <td>...</td>\n",
       "    </tr>\n",
       "    <tr>\n",
       "      <th>11035</th>\n",
       "      <td>2021-08-31</td>\n",
       "      <td>18.1</td>\n",
       "      <td>3.8</td>\n",
       "      <td>3.9</td>\n",
       "      <td>98.0</td>\n",
       "      <td>19:00</td>\n",
       "      <td>74786</td>\n",
       "    </tr>\n",
       "    <tr>\n",
       "      <th>11036</th>\n",
       "      <td>2021-08-31</td>\n",
       "      <td>18.1</td>\n",
       "      <td>1.6</td>\n",
       "      <td>4.3</td>\n",
       "      <td>99.0</td>\n",
       "      <td>20:00</td>\n",
       "      <td>74099</td>\n",
       "    </tr>\n",
       "    <tr>\n",
       "      <th>11037</th>\n",
       "      <td>2021-08-31</td>\n",
       "      <td>18.1</td>\n",
       "      <td>3.6</td>\n",
       "      <td>3.8</td>\n",
       "      <td>99.0</td>\n",
       "      <td>21:00</td>\n",
       "      <td>71232</td>\n",
       "    </tr>\n",
       "    <tr>\n",
       "      <th>11038</th>\n",
       "      <td>2021-08-31</td>\n",
       "      <td>18.3</td>\n",
       "      <td>2.1</td>\n",
       "      <td>3.3</td>\n",
       "      <td>100.0</td>\n",
       "      <td>22:00</td>\n",
       "      <td>68114</td>\n",
       "    </tr>\n",
       "    <tr>\n",
       "      <th>11039</th>\n",
       "      <td>2021-08-31</td>\n",
       "      <td>18.5</td>\n",
       "      <td>7.8</td>\n",
       "      <td>2.6</td>\n",
       "      <td>100.0</td>\n",
       "      <td>23:00</td>\n",
       "      <td>64780</td>\n",
       "    </tr>\n",
       "  </tbody>\n",
       "</table>\n",
       "<p>11040 rows × 7 columns</p>\n",
       "</div>"
      ],
      "text/plain": [
       "               날짜  기온(°C)  강수량(mm)  풍속(m/s)  습도(%)     시간    수요량\n",
       "0      2017-06-01    21.4      0.0      1.8   74.0  00:00  58038\n",
       "1      2017-06-01    21.5      0.0      0.9   75.0  01:00  54763\n",
       "2      2017-06-01    21.3      0.0      1.7   77.0  02:00  52836\n",
       "3      2017-06-01    20.9      0.0      2.4   81.0  03:00  51956\n",
       "4      2017-06-01    20.6      0.0      1.1   82.0  04:00  51299\n",
       "...           ...     ...      ...      ...    ...    ...    ...\n",
       "11035  2021-08-31    18.1      3.8      3.9   98.0  19:00  74786\n",
       "11036  2021-08-31    18.1      1.6      4.3   99.0  20:00  74099\n",
       "11037  2021-08-31    18.1      3.6      3.8   99.0  21:00  71232\n",
       "11038  2021-08-31    18.3      2.1      3.3  100.0  22:00  68114\n",
       "11039  2021-08-31    18.5      7.8      2.6  100.0  23:00  64780\n",
       "\n",
       "[11040 rows x 7 columns]"
      ]
     },
     "execution_count": 159,
     "metadata": {},
     "output_type": "execute_result"
    }
   ],
   "source": [
    "fin17210608 = pd.concat([tem17210608,elec17210608],axis=1)\n",
    "fin17210608"
   ]
  },
  {
   "cell_type": "code",
   "execution_count": 160,
   "id": "b19be310-3a55-4e56-996f-ed022dda55a2",
   "metadata": {
    "tags": []
   },
   "outputs": [
    {
     "data": {
      "image/png": "[encoded data removed]",
      "text/plain": [
       "<Figure size 640x480 with 1 Axes>"
      ]
     },
     "metadata": {},
     "output_type": "display_data"
    }
   ],
   "source": [
    "correlation = fin17210608['수요량'].corr(fin17210608['기온(°C)'])\n",
    "sns.scatterplot(x=fin17210608['기온(°C)'], y=fin17210608['수요량'])\n",
    "plt.title('correlation(상관계수): '+str(np.round(correlation,2)), fontsize=20)\n",
    "plt.xlabel(\"기온(°C)\",fontsize=12)\n",
    "plt.ylabel(\"수요량\",fontsize=12)\n",
    "plt.show()"
   ]
  },
  {
   "cell_type": "code",
   "execution_count": null,
   "id": "9e2b5f40-92a1-48b0-963a-b8692162473f",
   "metadata": {},
   "outputs": [],
   "source": []
  },
  {
   "cell_type": "code",
   "execution_count": null,
   "id": "fbd54bc8-f7f9-448f-afd2-28342e6edda1",
   "metadata": {},
   "outputs": [],
   "source": []
  },
  {
   "cell_type": "code",
   "execution_count": 161,
   "id": "fa709d52-b391-4bd0-ae06-3bb4442f6a72",
   "metadata": {},
   "outputs": [],
   "source": [
    "## 일반 회귀모델 적용"
   ]
  },
  {
   "cell_type": "code",
   "execution_count": 203,
   "id": "24c7ce76-efc8-48cd-b847-77829c98eacb",
   "metadata": {
    "tags": []
   },
   "outputs": [],
   "source": [
    "y = fin17210608['수요량']\n",
    "x = fin17210608.drop(columns=['날짜', '시간', '수요량'])"
   ]
  },
  {
   "cell_type": "code",
   "execution_count": 204,
   "id": "a0ca89a5-45f2-4fda-90d0-59b2af4a804d",
   "metadata": {
    "collapsed": true,
    "jupyter": {
     "outputs_hidden": true
    },
    "tags": []
   },
   "outputs": [
    {
     "data": {
      "text/plain": [
       "(      기온(°C)  강수량(mm)  풍속(m/s)  습도(%)\n",
       " 5259    26.2      0.0      0.7   50.0\n",
       " 9313    20.7      0.0      2.6   87.0\n",
       " 7138    29.6      0.0      2.0   52.0\n",
       " 613     28.2      0.0      1.8   51.0\n",
       " 1861    27.0      0.0      0.8   69.0\n",
       " ...      ...      ...      ...    ...\n",
       " 1471    24.2      0.0      1.9   91.0\n",
       " 5893    28.4      0.0      1.5   77.0\n",
       " 4002    33.7      0.0      2.4   53.0\n",
       " 6879    31.2      0.0      2.7   44.0\n",
       " 4874    20.3      0.0      1.2   83.0\n",
       " \n",
       " [7728 rows x 4 columns],\n",
       "       기온(°C)  강수량(mm)  풍속(m/s)  습도(%)\n",
       " 9295    18.9      0.0      1.6   89.0\n",
       " 1495    26.9      0.0      1.6   82.0\n",
       " 3157    25.2      0.0      1.2   77.0\n",
       " 1598    30.4      0.0      1.1   69.0\n",
       " 1464    24.8      0.0      1.3   86.0\n",
       " ...      ...      ...      ...    ...\n",
       " 6685    26.1      0.0      2.2   55.0\n",
       " 9910    26.4      0.0      2.5   76.0\n",
       " 8088    25.0      1.0      3.4   90.0\n",
       " 7787    21.1      0.1      3.7   96.0\n",
       " 1732    23.8      0.0      2.6   68.0\n",
       " \n",
       " [3312 rows x 4 columns],\n",
       " 5259    55670\n",
       " 9313    52362\n",
       " 7138    65779\n",
       " 613     68134\n",
       " 1861    72146\n",
       "         ...  \n",
       " 1471    52919\n",
       " 5893    73294\n",
       " 4002    90598\n",
       " 6879    71583\n",
       " 4874    55520\n",
       " Name: 수요량, Length: 7728, dtype: int64,\n",
       " 9295    49180\n",
       " 1495    53883\n",
       " 3157    70546\n",
       " 1598    66639\n",
       " 1464    60503\n",
       "         ...  \n",
       " 6685    59930\n",
       " 9910    77222\n",
       " 8088    56764\n",
       " 7787    54618\n",
       " 1732    55418\n",
       " Name: 수요량, Length: 3312, dtype: int64)"
      ]
     },
     "execution_count": 204,
     "metadata": {},
     "output_type": "execute_result"
    }
   ],
   "source": [
    "x_train, x_test, y_train, y_test = train_test_split(x,y, test_size=0.3)\n",
    "x_train, x_test, y_train, y_test"
   ]
  },
  {
   "cell_type": "code",
   "execution_count": 164,
   "id": "ab1bb655-359f-40d4-9c9d-c4e8ee64f00e",
   "metadata": {
    "tags": []
   },
   "outputs": [
    {
     "name": "stdout",
     "output_type": "stream",
     "text": [
      "mse:52856462.52354022, rmse:7270.24501124551, r2:0.45683313575646123\n"
     ]
    }
   ],
   "source": [
    "lr = LinearRegression()\n",
    "lr.fit(x_train, y_train)\n",
    "y_pred = lr.predict(x_test)\n",
    "mse = mean_squared_error(y_test, y_pred)\n",
    "rmse = np.sqrt(mse)\n",
    "r2 = r2_score(y_test, y_pred)\n",
    "print(f'mse:{mse}, rmse:{rmse}, r2:{r2}')"
   ]
  },
  {
   "cell_type": "code",
   "execution_count": 165,
   "id": "27c1fc05-d422-452c-955e-ae0bae3275bd",
   "metadata": {
    "tags": []
   },
   "outputs": [
    {
     "name": "stdout",
     "output_type": "stream",
     "text": [
      "0.45777169974540144\n",
      "0.45683313575646123\n"
     ]
    }
   ],
   "source": [
    "print(lr.score(x_train, y_train))\n",
    "print(lr.score(x_test, y_test))"
   ]
  },
  {
   "cell_type": "code",
   "execution_count": 166,
   "id": "fce4c58d-a3da-45c9-b567-350e06e51b39",
   "metadata": {
    "tags": []
   },
   "outputs": [
    {
     "name": "stdout",
     "output_type": "stream",
     "text": [
      "절편(바이어스):15933.84153851778, \n",
      "회귀계수(가중치):[1685.7  206.1 1110.3   52.2]\n"
     ]
    }
   ],
   "source": [
    "print(f'절편(바이어스):{lr.intercept_}, \\n회귀계수(가중치):{np.round(lr.coef_, 1)}')"
   ]
  },
  {
   "cell_type": "code",
   "execution_count": 167,
   "id": "5d7ef84d-df42-4ae0-ae9e-ec3e2e37fefc",
   "metadata": {
    "tags": []
   },
   "outputs": [
    {
     "data": {
      "text/plain": [
       "기온(°C)     1685.7\n",
       "풍속(m/s)    1110.3\n",
       "강수량(mm)     206.1\n",
       "습도(%)        52.2\n",
       "dtype: float64"
      ]
     },
     "execution_count": 167,
     "metadata": {},
     "output_type": "execute_result"
    }
   ],
   "source": [
    "coeff = pd.Series(data=np.round(lr.coef_, 1), index=x.columns)\n",
    "coeff.sort_values(ascending=False)"
   ]
  },
  {
   "cell_type": "code",
   "execution_count": 168,
   "id": "92ed19e6-68b7-4247-bb96-46f9853eff89",
   "metadata": {
    "tags": []
   },
   "outputs": [],
   "source": [
    "from sklearn.model_selection import cross_val_score"
   ]
  },
  {
   "cell_type": "code",
   "execution_count": 199,
   "id": "5ed1fab7-f415-4be8-b49a-6ca572b69935",
   "metadata": {
    "tags": []
   },
   "outputs": [
    {
     "data": {
      "text/plain": [
       "7379.143026419205"
      ]
     },
     "execution_count": 199,
     "metadata": {},
     "output_type": "execute_result"
    }
   ],
   "source": [
    "lr = LinearRegression()\n",
    "y = fin17210608['수요량']\n",
    "x = fin17210608.drop(columns=['날짜', '시간', '수요량'])\n",
    "neg_mse = cross_val_score(lr,x,y,scoring='neg_mean_squared_error', cv=5)\n",
    "mse = -neg_mse\n",
    "rmse = np.sqrt(mse)\n",
    "np.mean(rmse)"
   ]
  },
  {
   "cell_type": "code",
   "execution_count": null,
   "id": "20c2ba69-401a-4fab-bb1c-fe051010e68b",
   "metadata": {},
   "outputs": [],
   "source": []
  },
  {
   "cell_type": "code",
   "execution_count": null,
   "id": "165a601d-102a-4b79-bb17-41c1da5cfef7",
   "metadata": {},
   "outputs": [],
   "source": []
  },
  {
   "cell_type": "code",
   "execution_count": 170,
   "id": "25af6144-4118-4179-8dde-ffb216161424",
   "metadata": {
    "tags": []
   },
   "outputs": [],
   "source": [
    "### 스탠다드스케일 적용"
   ]
  },
  {
   "cell_type": "code",
   "execution_count": 171,
   "id": "8acf9348-caf7-42fe-adea-d3200991fc86",
   "metadata": {
    "tags": []
   },
   "outputs": [],
   "source": [
    "from sklearn.preprocessing import StandardScaler\n",
    "ss = StandardScaler()\n",
    "ss.fit(x_train)\n",
    "train_scaled = ss.transform(x_train)\n",
    "test_scaled = ss.transform(x_test)"
   ]
  },
  {
   "cell_type": "code",
   "execution_count": 172,
   "id": "da0c8cf1-8245-4261-af3a-5f2a4f6fc531",
   "metadata": {
    "tags": []
   },
   "outputs": [
    {
     "name": "stdout",
     "output_type": "stream",
     "text": [
      "mse:52856462.52354022, rmse:7270.24501124551, r2:0.45683313575646123\n"
     ]
    }
   ],
   "source": [
    "lr = LinearRegression()\n",
    "lr.fit(train_scaled, y_train)\n",
    "y_pred = lr.predict(test_scaled)\n",
    "mse = mean_squared_error(y_test, y_pred)\n",
    "rmse = np.sqrt(mse)\n",
    "r2 = r2_score(y_test, y_pred)\n",
    "print(f'mse:{mse}, rmse:{rmse}, r2:{r2}')"
   ]
  },
  {
   "cell_type": "code",
   "execution_count": 173,
   "id": "c5b45b8b-1485-4276-82b0-d6adc5e40c9c",
   "metadata": {
    "tags": []
   },
   "outputs": [
    {
     "name": "stdout",
     "output_type": "stream",
     "text": [
      "0.45777169974540144\n",
      "0.45683313575646123\n"
     ]
    }
   ],
   "source": [
    "print(lr.score(train_scaled, y_train))\n",
    "print(lr.score(test_scaled, y_test))"
   ]
  },
  {
   "cell_type": "code",
   "execution_count": null,
   "id": "f6acb4ba-c238-42c2-9291-b4ed3223f2f6",
   "metadata": {},
   "outputs": [],
   "source": []
  },
  {
   "cell_type": "code",
   "execution_count": 174,
   "id": "14c27e7a-cb30-4a30-97c0-005e44052f84",
   "metadata": {
    "tags": []
   },
   "outputs": [],
   "source": [
    "## 릿지 모델 적용"
   ]
  },
  {
   "cell_type": "code",
   "execution_count": 175,
   "id": "82fbe02c-325e-4c54-a592-f54c98d326ee",
   "metadata": {
    "tags": []
   },
   "outputs": [
    {
     "data": {
      "text/plain": [
       "7379.0822429599675"
      ]
     },
     "execution_count": 175,
     "metadata": {},
     "output_type": "execute_result"
    }
   ],
   "source": [
    "ridge = Ridge(alpha=10)\n",
    "neg_mse = cross_val_score(ridge,x,y,scoring='neg_mean_squared_error', cv=5)\n",
    "mse = -neg_mse\n",
    "rmse = np.sqrt(mse)\n",
    "np.mean(rmse)"
   ]
  },
  {
   "cell_type": "code",
   "execution_count": 176,
   "id": "dc695e57-732b-4d3c-a238-19b1162a32d0",
   "metadata": {
    "tags": []
   },
   "outputs": [
    {
     "name": "stdout",
     "output_type": "stream",
     "text": [
      "alpha:0 \n",
      "mse:[51209225.87842537 51998102.7838445  48877519.26897474 65066232.80300955\n",
      " 55816913.31499239], \n",
      "rmse:[7156.06217681 7210.97100146 6991.24590248 8066.36428653 7471.07176481], \n",
      "avg_rmse:7379.143026419205\n",
      "\n",
      "alpha:0.1 \n",
      "mse:[51209226.35547617 51998110.90111216 48877502.7563621  65066183.63916049\n",
      " 55816922.03162844], \n",
      "rmse:[7156.06221015 7210.9715643  6991.24472153 8066.36123907 7471.07234817], \n",
      "avg_rmse:7379.142416643687\n",
      "\n",
      "alpha:1 \n",
      "mse:[51209230.65253234 51998183.97115021 48877354.16853659 65065741.25115674\n",
      " 55817000.48773295], \n",
      "rmse:[7156.06251038 7210.97663088 6991.23409482 8066.33381724 7471.07759883], \n",
      "avg_rmse:7379.136930431128\n",
      "\n",
      "alpha:10 \n",
      "mse:[51209273.9781382  51998916.11725669 48875870.82995502 65061325.93439517\n",
      " 55817785.67902903], \n",
      "rmse:[7156.06553758 7211.02739679 6991.12800841 8066.06012465 7471.13014738], \n",
      "avg_rmse:7379.0822429599675\n",
      "\n",
      "alpha:100 \n",
      "mse:[51209741.50347108 52006379.65163318 48861288.02559018 65018015.44698411\n",
      " 55825699.24000192], \n",
      "rmse:[7156.09820387 7211.54488661 6990.08497985 8063.37494149 7471.65973797], \n",
      "avg_rmse:7378.552549959277\n",
      "\n",
      "alpha:300 \n",
      "mse:[51210981.12216812 52023843.66012821 48830449.59643701 64927001.19051599\n",
      " 55843660.70342445], \n",
      "rmse:[7156.1848161  7212.75562182 6987.87876229 8057.72928253 7472.8616141 ], \n",
      "avg_rmse:7377.482019366714\n",
      "\n",
      "alpha:1000 \n",
      "mse:[51216861.28168327 52093071.80342322 48737541.12196811 64657353.58993278\n",
      " 55909825.19278435], \n",
      "rmse:[7156.59564889 7217.55303433 6981.22776609 8040.97964118 7477.28728837], \n",
      "avg_rmse:7374.728675771864\n",
      "\n",
      "alpha:3000 \n",
      "mse:[51238717.76577011 52336365.76670694 48565378.10828084 64170675.05697701\n",
      " 56114508.74131805], \n",
      "rmse:[7158.12250285 7234.38772577 6968.88643244 8010.66008872 7490.96180349], \n",
      "avg_rmse:7372.603710652273\n",
      "\n",
      "alpha:4000 \n",
      "mse:[51250525.95230473 52473217.95285534 48514853.04478581 64025571.46044701\n",
      " 56220541.20665465], \n",
      "rmse:[7158.94726565 7243.8400005  6965.26044343 8001.59805667 7498.03582324], \n",
      "avg_rmse:7373.536317897194\n",
      "\n",
      "alpha:5000 \n",
      "mse:[51262984.61376256 52616307.84740379 48480937.55896092 63921355.5584178\n",
      " 56327315.55171037], \n",
      "rmse:[7159.81735897 7253.70993681 6962.82540058 7995.08321148 7505.15260016], \n",
      "avg_rmse:7375.317701599127\n",
      "\n"
     ]
    }
   ],
   "source": [
    "alphas = [0, 0.1, 1, 10, 100, 300, 1000, 3000, 4000, 5000] ## 최적 alpha값은 3000\n",
    "for alpha in alphas:\n",
    "    ridge = Ridge(alpha=alpha)\n",
    "    neg_mse = cross_val_score(ridge,x,y,scoring='neg_mean_squared_error', cv=5)\n",
    "    mse = -neg_mse\n",
    "    rmse = np.sqrt(mse)\n",
    "    avg_rmse = np.mean(rmse)\n",
    "    print(f'alpha:{alpha} \\nmse:{mse}, \\nrmse:{rmse}, \\navg_rmse:{avg_rmse}')\n",
    "    print()"
   ]
  },
  {
   "cell_type": "code",
   "execution_count": 177,
   "id": "b75eb84b-259a-42fd-a276-c0dbd1f882d2",
   "metadata": {
    "tags": []
   },
   "outputs": [
    {
     "data": {
      "image/png": "[encoded data removed]",
      "text/plain": [
       "<Figure size 1800x600 with 5 Axes>"
      ]
     },
     "metadata": {},
     "output_type": "display_data"
    }
   ],
   "source": [
    "alphas = [0, 10, 100, 3000, 10000]\n",
    "fig, axs = plt.subplots(figsize=(18,6), nrows=1, ncols=5)\n",
    "coeff_df = pd.DataFrame()\n",
    "for pos, alpha in enumerate(alphas):\n",
    "    ridge = Ridge(alpha=alpha)\n",
    "    ridge.fit(x,y)\n",
    "    coeff = pd.Series(data=ridge.coef_, index=x.columns)\n",
    "    colname = 'alpha:'+str(alpha)\n",
    "    coeff_df[colname] = coeff\n",
    "    coeff = coeff.sort_values(ascending=False)\n",
    "    axs[pos].set_title(colname)\n",
    "    axs[pos].set_xlim(0, 2000)\n",
    "    sns.barplot(x=coeff.values, y=coeff.index, ax=axs[pos])\n",
    "plt.show()"
   ]
  },
  {
   "cell_type": "code",
   "execution_count": null,
   "id": "64bb2151-f737-4081-a3e8-29f936442257",
   "metadata": {},
   "outputs": [],
   "source": []
  },
  {
   "cell_type": "code",
   "execution_count": 178,
   "id": "d03fef90-a9f7-4d14-8c03-752707de1b43",
   "metadata": {
    "tags": []
   },
   "outputs": [],
   "source": [
    "## 라쏘모델 적용"
   ]
  },
  {
   "cell_type": "code",
   "execution_count": 179,
   "id": "603482cc-f5ed-4674-9852-9bf6b5ee1eb4",
   "metadata": {},
   "outputs": [],
   "source": [
    "from sklearn.linear_model import Lasso, ElasticNet"
   ]
  },
  {
   "cell_type": "code",
   "execution_count": 180,
   "id": "a45dc627-996a-4785-95f0-774c1cef6cc2",
   "metadata": {
    "tags": []
   },
   "outputs": [],
   "source": [
    "def get_linear_reg_eval(model_name, params, x,y, verbose=True, return_coeff=True):\n",
    "    coeff_df =pd.DataFrame()\n",
    "    if verbose:\n",
    "        print('###', model_name, '###')\n",
    "    for param in params:\n",
    "        if model_name == 'Ridge':\n",
    "            model = Ridge(alpha=param)\n",
    "        elif model_name == 'Lasso':\n",
    "            model = Lasso(alpha=param)\n",
    "        elif model_name == 'ElasticNet':\n",
    "            model = ElasticNet(alpha=param, l1_ratio=0.7)\n",
    "        neg_mse_scores = cross_val_score(model, x, y, scoring='neg_mean_squared_error', cv=5)\n",
    "        avg_rmse = np.mean(np.sqrt(-neg_mse_scores))\n",
    "        print(f'alpha {param} rmse평균:{avg_rmse}')\n",
    "        model.fit(x,y)\n",
    "        if return_coeff:\n",
    "            coeff = pd.Series(data=model.coef_, index=x.columns)\n",
    "            colname = 'alpha:'+ str(param)\n",
    "            coeff_df[colname] = coeff\n",
    "    return coeff_df"
   ]
  },
  {
   "cell_type": "code",
   "execution_count": 181,
   "id": "9bb9511f-06bf-435a-a935-ed6c7939f652",
   "metadata": {
    "tags": []
   },
   "outputs": [
    {
     "name": "stdout",
     "output_type": "stream",
     "text": [
      "### Lasso ###\n",
      "alpha 0.1 rmse평균:7379.138458406007\n",
      "alpha 1 rmse평균:7379.0978965969425\n",
      "alpha 10 rmse평균:7378.708519535115\n",
      "alpha 100 rmse평균:7375.604143688632\n",
      "alpha 300 rmse평균:7373.840282203635\n",
      "alpha 500 rmse평균:7379.025581689722\n",
      "alpha 1000 rmse평균:7417.445324531864\n"
     ]
    }
   ],
   "source": [
    "lasso_alphas = [0.1, 1, 10, 100, 300, 500, 1000]\n",
    "coeff_lasso_df = get_linear_reg_eval('Lasso', lasso_alphas, x, y)"
   ]
  },
  {
   "cell_type": "code",
   "execution_count": null,
   "id": "bff96bd0-f3ac-492c-9605-e0f26401afd3",
   "metadata": {},
   "outputs": [],
   "source": []
  },
  {
   "cell_type": "code",
   "execution_count": 182,
   "id": "160de83d-970d-4559-8f6b-6caeefd82c43",
   "metadata": {
    "tags": []
   },
   "outputs": [],
   "source": [
    "from sklearn.preprocessing import StandardScaler, MinMaxScaler, PolynomialFeatures\n",
    "import warnings\n",
    "warnings.filterwarnings('ignore')"
   ]
  },
  {
   "cell_type": "code",
   "execution_count": 183,
   "id": "35e016ae-344e-49e8-a5fe-32790fd3a3ac",
   "metadata": {
    "tags": []
   },
   "outputs": [],
   "source": [
    "def get_scaled_data(method='None', p_degree=None, input_data=None):\n",
    "    if method == 'Standard':\n",
    "        scaled_data = StandardScaler().fit_transform(input_data)\n",
    "    elif method == 'MinMax':\n",
    "        scaled_data = MinMaxScaler().fit_transform(input_data)\n",
    "    elif method == 'log':\n",
    "        scaled_data = np.log1p(input_data) \n",
    "    else:\n",
    "        scaled_data = input_data\n",
    "    if p_degree != None:\n",
    "        scaled_data = PolynomialFeatures(degree=p_degree, include_bias=False).fit_transform(scaled_data)\n",
    "        \n",
    "    return scaled_data"
   ]
  },
  {
   "cell_type": "code",
   "execution_count": 184,
   "id": "1a0d7889-7044-4e69-8800-383d11c0944a",
   "metadata": {
    "tags": []
   },
   "outputs": [
    {
     "name": "stdout",
     "output_type": "stream",
     "text": [
      "### Ridge ###\n",
      "alpha 0.1 rmse평균:7379.142416643687\n",
      "alpha 1 rmse평균:7379.136930431128\n",
      "alpha 10 rmse평균:7379.0822429599675\n",
      "alpha 100 rmse평균:7378.552549959277\n",
      "alpha 300 rmse평균:7377.482019366714\n",
      "alpha 500 rmse평균:7376.5474085271835\n",
      "alpha 1000 rmse평균:7374.728675771864\n",
      "alpha 3000 rmse평균:7372.603710652273\n",
      "### Ridge ###\n",
      "alpha 0.1 rmse평균:7379.141180030589\n",
      "alpha 1 rmse평균:7379.124631203011\n",
      "alpha 10 rmse평균:7378.9659139256155\n",
      "alpha 100 rmse평균:7378.02939083255\n",
      "alpha 300 rmse평균:7379.71406997758\n",
      "alpha 500 rmse평균:7385.681613108158\n",
      "alpha 1000 rmse평균:7413.857384881529\n",
      "alpha 3000 rmse평균:7600.856205442816\n",
      "### Ridge ###\n",
      "alpha 0.1 rmse평균:7218.890215758191\n",
      "alpha 1 rmse평균:7219.046223202213\n",
      "alpha 10 rmse평균:7220.504093848709\n",
      "alpha 100 rmse평균:7227.948146610678\n",
      "alpha 300 rmse평균:7233.466239886036\n",
      "alpha 500 rmse평균:7240.576527729859\n",
      "alpha 1000 rmse평균:7271.907224111967\n",
      "alpha 3000 rmse평균:7474.852486865658\n",
      "### Ridge ###\n",
      "alpha 0.1 rmse평균:7378.907298639057\n",
      "alpha 1 rmse평균:7377.545430773176\n",
      "alpha 10 rmse평균:7408.643720061409\n",
      "alpha 100 rmse평균:8174.309208596866\n",
      "alpha 300 rmse평균:8878.28234267481\n",
      "alpha 500 rmse평균:9159.971406529823\n",
      "alpha 1000 rmse평균:9464.449160357915\n",
      "alpha 3000 rmse평균:9761.398503828654\n",
      "### Ridge ###\n",
      "alpha 0.1 rmse평균:7240.863554812755\n",
      "alpha 1 rmse평균:7243.641111751231\n",
      "alpha 10 rmse평균:7268.071234461022\n",
      "alpha 100 rmse평균:7539.206600264547\n",
      "alpha 300 rmse평균:8110.7957848936985\n",
      "alpha 500 rmse평균:8465.952755537413\n",
      "alpha 1000 rmse평균:8931.717532192659\n",
      "alpha 3000 rmse평균:9482.353295584857\n",
      "### Ridge ###\n",
      "alpha 0.1 rmse평균:7379.142416643687\n",
      "alpha 1 rmse평균:7379.136930431128\n",
      "alpha 10 rmse평균:7379.0822429599675\n",
      "alpha 100 rmse평균:7378.552549959277\n",
      "alpha 300 rmse평균:7377.482019366714\n",
      "alpha 500 rmse평균:7376.5474085271835\n",
      "alpha 1000 rmse평균:7374.728675771864\n",
      "alpha 3000 rmse평균:7372.603710652273\n"
     ]
    }
   ],
   "source": [
    "alphas=[0.1, 1, 10, 100, 300, 500, 1000, 3000]\n",
    "scale_methods = [(None, None), \n",
    "                ('Standard', None), \n",
    "                ('Standard', 2), \n",
    "                ('MinMax', None), \n",
    "                ('MinMax', 2),\n",
    "                ('Log', None)]\n",
    "for scaled_method in scale_methods:\n",
    "    x_scaled = get_scaled_data(scaled_method[0], scaled_method[1], x)\n",
    "    get_linear_reg_eval('Ridge', alphas, x_scaled, y, return_coeff=False)"
   ]
  },
  {
   "cell_type": "code",
   "execution_count": 185,
   "id": "bc93aa8f-111f-432b-8d2a-ab6c3879fbb1",
   "metadata": {
    "tags": []
   },
   "outputs": [],
   "source": [
    "## log1p 적용"
   ]
  },
  {
   "cell_type": "code",
   "execution_count": 186,
   "id": "bc8ee048-66a4-41ab-bc1f-0d83f857f018",
   "metadata": {
    "tags": []
   },
   "outputs": [],
   "source": [
    "from sklearn.metrics import mean_squared_error, mean_absolute_error\n",
    "from sklearn.model_selection import train_test_split, GridSearchCV\n",
    "from sklearn.linear_model import LinearRegression, Ridge, Lasso\n",
    "import warnings\n",
    "warnings.filterwarnings('ignore', category=RuntimeWarning)"
   ]
  },
  {
   "cell_type": "code",
   "execution_count": 187,
   "id": "b4a7a3c1-a981-4bb6-a3e2-a75668797af8",
   "metadata": {
    "tags": []
   },
   "outputs": [],
   "source": [
    "def rmsle(y, pred):\n",
    "    log_y = np.log1p(y)\n",
    "    log_pred = np.log1p(pred)\n",
    "    squared_error = (log_y-log_pred)**2\n",
    "    rmsle = np.sqrt(np.mean(squared_error))\n",
    "    return rmsle\n",
    "\n",
    "def rmse(y, pred):\n",
    "    return mean_squared_error(y, pred, squared=False)\n",
    "\n",
    "def evaluate_regr(y, pred):\n",
    "    print(f'rmsle:{rmsle(y, pred)}, rmse:{rmse(y, pred)}, mae:{mean_absolute_error(y, pred)}')"
   ]
  },
  {
   "cell_type": "code",
   "execution_count": 191,
   "id": "fcbc06fe-cd55-4357-a771-0e8fdd13e284",
   "metadata": {
    "tags": []
   },
   "outputs": [
    {
     "name": "stdout",
     "output_type": "stream",
     "text": [
      "rmsle:0.11303461209400197, rmse:7299.321968850275, mae:6013.493661860214\n"
     ]
    },
    {
     "data": {
      "text/plain": [
       "0.4542405721207018"
      ]
     },
     "execution_count": 191,
     "metadata": {},
     "output_type": "execute_result"
    }
   ],
   "source": [
    "x = fin17210608.drop(columns=['날짜', '시간', '수요량'])\n",
    "y = fin17210608['수요량']\n",
    "x_train, x_test, y_train, y_test = train_test_split(x, y, test_size=0.3)\n",
    "\n",
    "lr_reg = LinearRegression()\n",
    "lr_reg.fit(x_train, y_train)\n",
    "pred = lr_reg.predict(x_test)\n",
    "evaluate_regr(y_test, pred)\n",
    "r2_score(y_test, pred)"
   ]
  },
  {
   "cell_type": "code",
   "execution_count": 192,
   "id": "2cf37f53-a61a-4a17-b166-2effce5a04cb",
   "metadata": {
    "tags": []
   },
   "outputs": [
    {
     "name": "stdout",
     "output_type": "stream",
     "text": [
      "      real_count  predicted_count     diff\n",
      "2081       50896          75072.0  24176.0\n",
      "2890       53124          75917.0  22793.0\n",
      "1567       49172          70831.0  21659.0\n",
      "213        48527          69674.0  21147.0\n",
      "2206       49169          70190.0  21021.0\n"
     ]
    }
   ],
   "source": [
    "def get_top_error_data(y_test, pred, n_tops=5):\n",
    "    result_df = pd.DataFrame(y_test.values, columns=['real_count'])\n",
    "    result_df['predicted_count'] = np.round(pred)\n",
    "    result_df['diff'] = np.abs(result_df['real_count'] - result_df['predicted_count'])\n",
    "    print(result_df.sort_values('diff', ascending=False)[:n_tops])\n",
    "    \n",
    "get_top_error_data(y_test,pred,n_tops=5)"
   ]
  },
  {
   "cell_type": "code",
   "execution_count": 193,
   "id": "9ebc7806-306a-4807-9b2d-2219f609c777",
   "metadata": {
    "collapsed": true,
    "jupyter": {
     "outputs_hidden": true
    },
    "tags": []
   },
   "outputs": [
    {
     "data": {
      "text/plain": [
       "<AxesSubplot: >"
      ]
     },
     "execution_count": 193,
     "metadata": {},
     "output_type": "execute_result"
    },
    {
     "data": {
      "image/png": "[encoded data removed]",
      "text/plain": [
       "<Figure size 640x480 with 1 Axes>"
      ]
     },
     "metadata": {},
     "output_type": "display_data"
    }
   ],
   "source": [
    "y.hist()"
   ]
  },
  {
   "cell_type": "code",
   "execution_count": 194,
   "id": "fa4a87bc-005d-4533-a300-4d698531a891",
   "metadata": {
    "tags": []
   },
   "outputs": [
    {
     "data": {
      "text/plain": [
       "<AxesSubplot: >"
      ]
     },
     "execution_count": 194,
     "metadata": {},
     "output_type": "execute_result"
    },
    {
     "data": {
      "image/png": "[encoded data removed]",
      "text/plain": [
       "<Figure size 640x480 with 1 Axes>"
      ]
     },
     "metadata": {},
     "output_type": "display_data"
    }
   ],
   "source": [
    "y_log = np.log1p(y)\n",
    "y_log.hist()"
   ]
  },
  {
   "cell_type": "code",
   "execution_count": 195,
   "id": "36699003-0427-45ae-ae3f-0b5c39f11a76",
   "metadata": {
    "tags": []
   },
   "outputs": [
    {
     "name": "stdout",
     "output_type": "stream",
     "text": [
      "rmsle:0.11258912727248063, rmse:7298.308095024701, mae:6011.087519558\n"
     ]
    },
    {
     "data": {
      "text/plain": [
       "0.4568088481260181"
      ]
     },
     "execution_count": 195,
     "metadata": {},
     "output_type": "execute_result"
    }
   ],
   "source": [
    "x_train, x_test, y_train, y_test = train_test_split(x, y_log, test_size=0.3, random_state=0)\n",
    "\n",
    "lr_reg = LinearRegression()\n",
    "lr_reg.fit(x_train, y_train)\n",
    "pred = lr_reg.predict(x_test)\n",
    "\n",
    "\n",
    "y_test_exp = np.expm1(y_test)\n",
    "pred_exp = np.expm1(pred)\n",
    "evaluate_regr(y_test_exp, pred_exp)\n",
    "r2_score(y_test_exp, pred_exp)\n",
    "# rmsle:0.11394390278831115, rmse:7334.3743659727415, mae:6090.044213920027"
   ]
  },
  {
   "cell_type": "code",
   "execution_count": 86,
   "id": "84698465-545f-4f5e-a1a3-cd636ec039c6",
   "metadata": {
    "collapsed": true,
    "jupyter": {
     "outputs_hidden": true
    },
    "tags": []
   },
   "outputs": [
    {
     "data": {
      "text/plain": [
       "<AxesSubplot: >"
      ]
     },
     "execution_count": 86,
     "metadata": {},
     "output_type": "execute_result"
    },
    {
     "data": {
      "image/png": "[encoded data removed]",
      "text/plain": [
       "<Figure size 640x480 with 1 Axes>"
      ]
     },
     "metadata": {},
     "output_type": "display_data"
    }
   ],
   "source": [
    "coef = pd.Series(lr_reg.coef_, index = x.columns)\n",
    "coef_sort = coef.sort_values(ascending=False)\n",
    "sns.barplot(x=coef_sort.values, y=coef_sort.index )"
   ]
  },
  {
   "cell_type": "code",
   "execution_count": 113,
   "id": "cc3a4a9f-a468-452b-8d12-4fa38789973c",
   "metadata": {
    "tags": []
   },
   "outputs": [],
   "source": [
    "x_ohe = pd.get_dummies(x, columns=['기온(°C)', '풍속(m/s)', '강수량(mm)', '습도(%)'],dtype='float')"
   ]
  },
  {
   "cell_type": "code",
   "execution_count": 198,
   "id": "bffa6363-4bd7-4764-8029-6d285cdb6d49",
   "metadata": {
    "collapsed": true,
    "jupyter": {
     "outputs_hidden": true
    },
    "tags": []
   },
   "outputs": [
    {
     "name": "stdout",
     "output_type": "stream",
     "text": [
      "#### LinearRegression ####\n"
     ]
    },
    {
     "ename": "ValueError",
     "evalue": "Input contains infinity or a value too large for dtype('float64').",
     "output_type": "error",
     "traceback": [
      "\u001b[1;31m---------------------------------------------------------------------------\u001b[0m",
      "\u001b[1;31mValueError\u001b[0m                                Traceback (most recent call last)",
      "Cell \u001b[1;32mIn[198], line 17\u001b[0m\n\u001b[0;32m     14\u001b[0m lasso_reg \u001b[38;5;241m=\u001b[39m Lasso(alpha\u001b[38;5;241m=\u001b[39m\u001b[38;5;241m300\u001b[39m)\n\u001b[0;32m     16\u001b[0m \u001b[38;5;28;01mfor\u001b[39;00m model \u001b[38;5;129;01min\u001b[39;00m [lr_reg, ridge_reg, lasso_reg]:\n\u001b[1;32m---> 17\u001b[0m     \u001b[43mget_model_predict\u001b[49m\u001b[43m(\u001b[49m\u001b[43mmodel\u001b[49m\u001b[43m,\u001b[49m\u001b[43m \u001b[49m\u001b[43mx_train\u001b[49m\u001b[43m,\u001b[49m\u001b[43m \u001b[49m\u001b[43mx_test\u001b[49m\u001b[43m,\u001b[49m\u001b[43m \u001b[49m\u001b[43my_train\u001b[49m\u001b[43m,\u001b[49m\u001b[43m \u001b[49m\u001b[43my_test\u001b[49m\u001b[43m,\u001b[49m\u001b[43m \u001b[49m\u001b[43mis_expm1\u001b[49m\u001b[38;5;241;43m=\u001b[39;49m\u001b[38;5;28;43;01mTrue\u001b[39;49;00m\u001b[43m)\u001b[49m\n",
      "Cell \u001b[1;32mIn[198], line 10\u001b[0m, in \u001b[0;36mget_model_predict\u001b[1;34m(model, x_train, x_test, y_train, y_test, is_expm1)\u001b[0m\n\u001b[0;32m      8\u001b[0m     pred \u001b[38;5;241m=\u001b[39m np\u001b[38;5;241m.\u001b[39mexpm1(pred)\n\u001b[0;32m      9\u001b[0m \u001b[38;5;28mprint\u001b[39m(\u001b[38;5;124m'\u001b[39m\u001b[38;5;124m####\u001b[39m\u001b[38;5;124m'\u001b[39m, model\u001b[38;5;241m.\u001b[39m\u001b[38;5;18m__class__\u001b[39m\u001b[38;5;241m.\u001b[39m\u001b[38;5;18m__name__\u001b[39m, \u001b[38;5;124m'\u001b[39m\u001b[38;5;124m####\u001b[39m\u001b[38;5;124m'\u001b[39m)\n\u001b[1;32m---> 10\u001b[0m \u001b[43mevaluate_regr\u001b[49m\u001b[43m(\u001b[49m\u001b[43my_test\u001b[49m\u001b[43m,\u001b[49m\u001b[43m \u001b[49m\u001b[43mpred\u001b[49m\u001b[43m)\u001b[49m\n",
      "Cell \u001b[1;32mIn[187], line 12\u001b[0m, in \u001b[0;36mevaluate_regr\u001b[1;34m(y, pred)\u001b[0m\n\u001b[0;32m     11\u001b[0m \u001b[38;5;28;01mdef\u001b[39;00m \u001b[38;5;21mevaluate_regr\u001b[39m(y, pred):\n\u001b[1;32m---> 12\u001b[0m     \u001b[38;5;28mprint\u001b[39m(\u001b[38;5;124mf\u001b[39m\u001b[38;5;124m'\u001b[39m\u001b[38;5;124mrmsle:\u001b[39m\u001b[38;5;132;01m{\u001b[39;00mrmsle(y,\u001b[38;5;250m \u001b[39mpred)\u001b[38;5;132;01m}\u001b[39;00m\u001b[38;5;124m, rmse:\u001b[39m\u001b[38;5;132;01m{\u001b[39;00m\u001b[43mrmse\u001b[49m\u001b[43m(\u001b[49m\u001b[43my\u001b[49m\u001b[43m,\u001b[49m\u001b[38;5;250;43m \u001b[39;49m\u001b[43mpred\u001b[49m\u001b[43m)\u001b[49m\u001b[38;5;132;01m}\u001b[39;00m\u001b[38;5;124m, mae:\u001b[39m\u001b[38;5;132;01m{\u001b[39;00mmean_absolute_error(y,\u001b[38;5;250m \u001b[39mpred)\u001b[38;5;132;01m}\u001b[39;00m\u001b[38;5;124m'\u001b[39m)\n",
      "Cell \u001b[1;32mIn[187], line 9\u001b[0m, in \u001b[0;36mrmse\u001b[1;34m(y, pred)\u001b[0m\n\u001b[0;32m      8\u001b[0m \u001b[38;5;28;01mdef\u001b[39;00m \u001b[38;5;21mrmse\u001b[39m(y, pred):\n\u001b[1;32m----> 9\u001b[0m     \u001b[38;5;28;01mreturn\u001b[39;00m \u001b[43mmean_squared_error\u001b[49m\u001b[43m(\u001b[49m\u001b[43my\u001b[49m\u001b[43m,\u001b[49m\u001b[43m \u001b[49m\u001b[43mpred\u001b[49m\u001b[43m,\u001b[49m\u001b[43m \u001b[49m\u001b[43msquared\u001b[49m\u001b[38;5;241;43m=\u001b[39;49m\u001b[38;5;28;43;01mFalse\u001b[39;49;00m\u001b[43m)\u001b[49m\n",
      "File \u001b[1;32m~\\AppData\\Local\\Programs\\Python\\Python311\\Lib\\site-packages\\sklearn\\metrics\\_regression.py:442\u001b[0m, in \u001b[0;36mmean_squared_error\u001b[1;34m(y_true, y_pred, sample_weight, multioutput, squared)\u001b[0m\n\u001b[0;32m    382\u001b[0m \u001b[38;5;28;01mdef\u001b[39;00m \u001b[38;5;21mmean_squared_error\u001b[39m(\n\u001b[0;32m    383\u001b[0m     y_true, y_pred, \u001b[38;5;241m*\u001b[39m, sample_weight\u001b[38;5;241m=\u001b[39m\u001b[38;5;28;01mNone\u001b[39;00m, multioutput\u001b[38;5;241m=\u001b[39m\u001b[38;5;124m\"\u001b[39m\u001b[38;5;124muniform_average\u001b[39m\u001b[38;5;124m\"\u001b[39m, squared\u001b[38;5;241m=\u001b[39m\u001b[38;5;28;01mTrue\u001b[39;00m\n\u001b[0;32m    384\u001b[0m ):\n\u001b[0;32m    385\u001b[0m \u001b[38;5;250m    \u001b[39m\u001b[38;5;124;03m\"\"\"Mean squared error regression loss.\u001b[39;00m\n\u001b[0;32m    386\u001b[0m \n\u001b[0;32m    387\u001b[0m \u001b[38;5;124;03m    Read more in the :ref:`User Guide <mean_squared_error>`.\u001b[39;00m\n\u001b[1;32m   (...)\u001b[0m\n\u001b[0;32m    440\u001b[0m \u001b[38;5;124;03m    0.825...\u001b[39;00m\n\u001b[0;32m    441\u001b[0m \u001b[38;5;124;03m    \"\"\"\u001b[39;00m\n\u001b[1;32m--> 442\u001b[0m     y_type, y_true, y_pred, multioutput \u001b[38;5;241m=\u001b[39m \u001b[43m_check_reg_targets\u001b[49m\u001b[43m(\u001b[49m\n\u001b[0;32m    443\u001b[0m \u001b[43m        \u001b[49m\u001b[43my_true\u001b[49m\u001b[43m,\u001b[49m\u001b[43m \u001b[49m\u001b[43my_pred\u001b[49m\u001b[43m,\u001b[49m\u001b[43m \u001b[49m\u001b[43mmultioutput\u001b[49m\n\u001b[0;32m    444\u001b[0m \u001b[43m    \u001b[49m\u001b[43m)\u001b[49m\n\u001b[0;32m    445\u001b[0m     check_consistent_length(y_true, y_pred, sample_weight)\n\u001b[0;32m    446\u001b[0m     output_errors \u001b[38;5;241m=\u001b[39m np\u001b[38;5;241m.\u001b[39maverage((y_true \u001b[38;5;241m-\u001b[39m y_pred) \u001b[38;5;241m*\u001b[39m\u001b[38;5;241m*\u001b[39m \u001b[38;5;241m2\u001b[39m, axis\u001b[38;5;241m=\u001b[39m\u001b[38;5;241m0\u001b[39m, weights\u001b[38;5;241m=\u001b[39msample_weight)\n",
      "File \u001b[1;32m~\\AppData\\Local\\Programs\\Python\\Python311\\Lib\\site-packages\\sklearn\\metrics\\_regression.py:102\u001b[0m, in \u001b[0;36m_check_reg_targets\u001b[1;34m(y_true, y_pred, multioutput, dtype)\u001b[0m\n\u001b[0;32m    100\u001b[0m check_consistent_length(y_true, y_pred)\n\u001b[0;32m    101\u001b[0m y_true \u001b[38;5;241m=\u001b[39m check_array(y_true, ensure_2d\u001b[38;5;241m=\u001b[39m\u001b[38;5;28;01mFalse\u001b[39;00m, dtype\u001b[38;5;241m=\u001b[39mdtype)\n\u001b[1;32m--> 102\u001b[0m y_pred \u001b[38;5;241m=\u001b[39m \u001b[43mcheck_array\u001b[49m\u001b[43m(\u001b[49m\u001b[43my_pred\u001b[49m\u001b[43m,\u001b[49m\u001b[43m \u001b[49m\u001b[43mensure_2d\u001b[49m\u001b[38;5;241;43m=\u001b[39;49m\u001b[38;5;28;43;01mFalse\u001b[39;49;00m\u001b[43m,\u001b[49m\u001b[43m \u001b[49m\u001b[43mdtype\u001b[49m\u001b[38;5;241;43m=\u001b[39;49m\u001b[43mdtype\u001b[49m\u001b[43m)\u001b[49m\n\u001b[0;32m    104\u001b[0m \u001b[38;5;28;01mif\u001b[39;00m y_true\u001b[38;5;241m.\u001b[39mndim \u001b[38;5;241m==\u001b[39m \u001b[38;5;241m1\u001b[39m:\n\u001b[0;32m    105\u001b[0m     y_true \u001b[38;5;241m=\u001b[39m y_true\u001b[38;5;241m.\u001b[39mreshape((\u001b[38;5;241m-\u001b[39m\u001b[38;5;241m1\u001b[39m, \u001b[38;5;241m1\u001b[39m))\n",
      "File \u001b[1;32m~\\AppData\\Local\\Programs\\Python\\Python311\\Lib\\site-packages\\sklearn\\utils\\validation.py:921\u001b[0m, in \u001b[0;36mcheck_array\u001b[1;34m(array, accept_sparse, accept_large_sparse, dtype, order, copy, force_all_finite, ensure_2d, allow_nd, ensure_min_samples, ensure_min_features, estimator, input_name)\u001b[0m\n\u001b[0;32m    915\u001b[0m         \u001b[38;5;28;01mraise\u001b[39;00m \u001b[38;5;167;01mValueError\u001b[39;00m(\n\u001b[0;32m    916\u001b[0m             \u001b[38;5;124m\"\u001b[39m\u001b[38;5;124mFound array with dim \u001b[39m\u001b[38;5;132;01m%d\u001b[39;00m\u001b[38;5;124m. \u001b[39m\u001b[38;5;132;01m%s\u001b[39;00m\u001b[38;5;124m expected <= 2.\u001b[39m\u001b[38;5;124m\"\u001b[39m\n\u001b[0;32m    917\u001b[0m             \u001b[38;5;241m%\u001b[39m (array\u001b[38;5;241m.\u001b[39mndim, estimator_name)\n\u001b[0;32m    918\u001b[0m         )\n\u001b[0;32m    920\u001b[0m     \u001b[38;5;28;01mif\u001b[39;00m force_all_finite:\n\u001b[1;32m--> 921\u001b[0m         \u001b[43m_assert_all_finite\u001b[49m\u001b[43m(\u001b[49m\n\u001b[0;32m    922\u001b[0m \u001b[43m            \u001b[49m\u001b[43marray\u001b[49m\u001b[43m,\u001b[49m\n\u001b[0;32m    923\u001b[0m \u001b[43m            \u001b[49m\u001b[43minput_name\u001b[49m\u001b[38;5;241;43m=\u001b[39;49m\u001b[43minput_name\u001b[49m\u001b[43m,\u001b[49m\n\u001b[0;32m    924\u001b[0m \u001b[43m            \u001b[49m\u001b[43mestimator_name\u001b[49m\u001b[38;5;241;43m=\u001b[39;49m\u001b[43mestimator_name\u001b[49m\u001b[43m,\u001b[49m\n\u001b[0;32m    925\u001b[0m \u001b[43m            \u001b[49m\u001b[43mallow_nan\u001b[49m\u001b[38;5;241;43m=\u001b[39;49m\u001b[43mforce_all_finite\u001b[49m\u001b[43m \u001b[49m\u001b[38;5;241;43m==\u001b[39;49m\u001b[43m \u001b[49m\u001b[38;5;124;43m\"\u001b[39;49m\u001b[38;5;124;43mallow-nan\u001b[39;49m\u001b[38;5;124;43m\"\u001b[39;49m\u001b[43m,\u001b[49m\n\u001b[0;32m    926\u001b[0m \u001b[43m        \u001b[49m\u001b[43m)\u001b[49m\n\u001b[0;32m    928\u001b[0m \u001b[38;5;28;01mif\u001b[39;00m ensure_min_samples \u001b[38;5;241m>\u001b[39m \u001b[38;5;241m0\u001b[39m:\n\u001b[0;32m    929\u001b[0m     n_samples \u001b[38;5;241m=\u001b[39m _num_samples(array)\n",
      "File \u001b[1;32m~\\AppData\\Local\\Programs\\Python\\Python311\\Lib\\site-packages\\sklearn\\utils\\validation.py:161\u001b[0m, in \u001b[0;36m_assert_all_finite\u001b[1;34m(X, allow_nan, msg_dtype, estimator_name, input_name)\u001b[0m\n\u001b[0;32m    144\u001b[0m \u001b[38;5;28;01mif\u001b[39;00m estimator_name \u001b[38;5;129;01mand\u001b[39;00m input_name \u001b[38;5;241m==\u001b[39m \u001b[38;5;124m\"\u001b[39m\u001b[38;5;124mX\u001b[39m\u001b[38;5;124m\"\u001b[39m \u001b[38;5;129;01mand\u001b[39;00m has_nan_error:\n\u001b[0;32m    145\u001b[0m     \u001b[38;5;66;03m# Improve the error message on how to handle missing values in\u001b[39;00m\n\u001b[0;32m    146\u001b[0m     \u001b[38;5;66;03m# scikit-learn.\u001b[39;00m\n\u001b[0;32m    147\u001b[0m     msg_err \u001b[38;5;241m+\u001b[39m\u001b[38;5;241m=\u001b[39m (\n\u001b[0;32m    148\u001b[0m         \u001b[38;5;124mf\u001b[39m\u001b[38;5;124m\"\u001b[39m\u001b[38;5;130;01m\\n\u001b[39;00m\u001b[38;5;132;01m{\u001b[39;00mestimator_name\u001b[38;5;132;01m}\u001b[39;00m\u001b[38;5;124m does not accept missing values\u001b[39m\u001b[38;5;124m\"\u001b[39m\n\u001b[0;32m    149\u001b[0m         \u001b[38;5;124m\"\u001b[39m\u001b[38;5;124m encoded as NaN natively. For supervised learning, you might want\u001b[39m\u001b[38;5;124m\"\u001b[39m\n\u001b[1;32m   (...)\u001b[0m\n\u001b[0;32m    159\u001b[0m         \u001b[38;5;124m\"\u001b[39m\u001b[38;5;124m#estimators-that-handle-nan-values\u001b[39m\u001b[38;5;124m\"\u001b[39m\n\u001b[0;32m    160\u001b[0m     )\n\u001b[1;32m--> 161\u001b[0m \u001b[38;5;28;01mraise\u001b[39;00m \u001b[38;5;167;01mValueError\u001b[39;00m(msg_err)\n",
      "\u001b[1;31mValueError\u001b[0m: Input contains infinity or a value too large for dtype('float64')."
     ]
    }
   ],
   "source": [
    "x_train, x_test, y_train, y_test = train_test_split(x_ohe, y_log, test_size=0.3)\n",
    "\n",
    "def get_model_predict(model, x_train, x_test, y_train, y_test, is_expm1=False):\n",
    "    model.fit(x_train, y_train)\n",
    "    pred = model.predict(x_test)\n",
    "    if is_expm1:\n",
    "        y_test = np.expm1(y_test)\n",
    "        pred = np.expm1(pred)\n",
    "    print('####', model.__class__.__name__, '####')\n",
    "    evaluate_regr(y_test, pred)\n",
    "    \n",
    "lr_reg = LinearRegression()\n",
    "ridge_reg = Ridge(alpha=3000)\n",
    "lasso_reg = Lasso(alpha=300)\n",
    "\n",
    "for model in [lr_reg, ridge_reg, lasso_reg]:\n",
    "    get_model_predict(model, x_train, x_test, y_train, y_test, is_expm1=True)"
   ]
  },
  {
   "cell_type": "code",
   "execution_count": 115,
   "id": "acfa842b-4fc1-4a23-87bf-d4f6b917f646",
   "metadata": {
    "tags": []
   },
   "outputs": [],
   "source": [
    "# coef = pd.Series(lr_reg.coef_, index = x_ohe.columns)\n",
    "# coef_sort = coef.sort_values(ascending=False)[-10:]\n",
    "# sns.barplot(x=coef_sort.values, y=coef_sort.index )"
   ]
  },
  {
   "cell_type": "code",
   "execution_count": 196,
   "id": "92c3ed29-f008-407b-8417-5ffaaf856bf0",
   "metadata": {
    "tags": []
   },
   "outputs": [],
   "source": [
    "def get_rmse(model, x_test, y_test):\n",
    "    from sklearn.metrics import mean_squared_error\n",
    "    pred = model.predict(x_test)\n",
    "    mse = mean_squared_error(y_test, pred)\n",
    "    rmse = np.sqrt(mse)\n",
    "    print(model.__class__.__name__,'로그 변환된 RMSE:', np.round(rmse, 3))\n",
    "    return rmse\n",
    "\n",
    "def get_rmses(models):\n",
    "    rmses = []\n",
    "    for model in models:\n",
    "        rmse = get_rmse(model, x_test, y_test)\n",
    "        rmses.append(rmse)\n",
    "    return rmses"
   ]
  },
  {
   "cell_type": "code",
   "execution_count": 197,
   "id": "f2afc81b-173b-4eee-8983-ff4d06e91314",
   "metadata": {
    "tags": []
   },
   "outputs": [
    {
     "name": "stdout",
     "output_type": "stream",
     "text": [
      "LinearRegression 로그 변환된 RMSE: 7165.13\n",
      "Ridge 로그 변환된 RMSE: 7165.132\n",
      "Lasso 로그 변환된 RMSE: 7165.173\n"
     ]
    },
    {
     "data": {
      "text/plain": [
       "[7165.130415967289, 7165.13232622526, 7165.173171214495]"
      ]
     },
     "execution_count": 197,
     "metadata": {},
     "output_type": "execute_result"
    }
   ],
   "source": [
    "y = fin17210608['수요량']\n",
    "x = fin17210608.drop(columns=['날짜', '시간', '수요량'])\n",
    "x_train, x_test, y_train, y_test = train_test_split(x,y,test_size=0.3)\n",
    "\n",
    "lr_reg = LinearRegression()\n",
    "lr_reg.fit(x_train,y_train)\n",
    "\n",
    "ridge_reg = Ridge()\n",
    "ridge_reg.fit(x_train, y_train)\n",
    "\n",
    "lasso_reg = Lasso()\n",
    "lasso_reg.fit(x_train, y_train)\n",
    "\n",
    "models = [lr_reg, ridge_reg, lasso_reg]\n",
    "get_rmses(models)"
   ]
  },
  {
   "cell_type": "code",
   "execution_count": 130,
   "id": "d5b2308a-ab24-49b9-9ba1-6db02fc704d7",
   "metadata": {
    "tags": []
   },
   "outputs": [],
   "source": [
    "def get_avg_rmse_cv(models):\n",
    "    from sklearn.model_selection import cross_val_score\n",
    "    for model in models:\n",
    "        rmse_list = np.sqrt(-cross_val_score(model, x, y, scoring='neg_mean_squared_error', cv=5))\n",
    "        rmse_avg = np.mean(rmse_list)\n",
    "        print(f'{model.__class__.__name__} rmse 값 리스트 : {rmse_list}')\n",
    "        print(f'{model.__class__.__name__} rmse 값 평  균 : {rmse_avg}')"
   ]
  },
  {
   "cell_type": "code",
   "execution_count": 119,
   "id": "fc44fb8e-111a-44b1-91d2-68ff4610c8ff",
   "metadata": {
    "tags": []
   },
   "outputs": [
    {
     "name": "stdout",
     "output_type": "stream",
     "text": [
      "LinearRegression rmse 값 리스트 : [7156.06217681 7210.97100146 6991.24590248 8066.36428653 7471.07176481]\n",
      "LinearRegression rmse 값 평  균 : 7379.143026419205\n",
      "Ridge rmse 값 리스트 : [7156.06251038 7210.97663088 6991.23409482 8066.33381724 7471.07759883]\n",
      "Ridge rmse 값 평  균 : 7379.136930431128\n",
      "Lasso rmse 값 리스트 : [7156.03256613 7211.03308048 6991.17402937 8066.11685918 7471.13294782]\n",
      "Lasso rmse 값 평  균 : 7379.0978965969425\n"
     ]
    }
   ],
   "source": [
    "models = [lr_reg, ridge_reg, lasso_reg]\n",
    "get_avg_rmse_cv(models)"
   ]
  },
  {
   "cell_type": "code",
   "execution_count": 120,
   "id": "92d8a4d9-da83-49ee-b682-cbee58898d1a",
   "metadata": {
    "tags": []
   },
   "outputs": [],
   "source": [
    "def print_best_params(model,params):\n",
    "    from sklearn.model_selection import GridSearchCV\n",
    "    grid_model = GridSearchCV(model,\n",
    "                              param_grid=params,\n",
    "                              scoring='neg_mean_squared_error',\n",
    "                              cv=5)\n",
    "    grid_model.fit(x,y)\n",
    "    rmse = np.sqrt(-grid_model.best_score_)\n",
    "    print(f'최적 rmse:{rmse}, 최적 alpha :{grid_model.best_params_}')"
   ]
  },
  {
   "cell_type": "code",
   "execution_count": 124,
   "id": "9075664a-be9c-4572-ba24-c2ecbd212eb4",
   "metadata": {
    "tags": []
   },
   "outputs": [
    {
     "name": "stdout",
     "output_type": "stream",
     "text": [
      "최적 rmse:7381.404276139507, 최적 alpha :{'alpha': 3000}\n",
      "최적 rmse:7382.459667850326, 최적 alpha :{'alpha': 300}\n"
     ]
    }
   ],
   "source": [
    "ridge_params = {'alpha':[0.1, 1, 10, 100, 300, 500, 1000, 3000, 10000]}\n",
    "lasso_params = {'alpha':[0.1, 1, 10, 100, 300, 500, 1000, 3000, 10000]}\n",
    "print_best_params(ridge_reg,ridge_params)\n",
    "print_best_params(lasso_reg,lasso_params)"
   ]
  },
  {
   "cell_type": "code",
   "execution_count": null,
   "id": "156bfd2d-9772-444b-a583-d71be4165b84",
   "metadata": {},
   "outputs": [],
   "source": []
  }
 ],
 "metadata": {
  "kernelspec": {
   "display_name": "Python 3 (ipykernel)",
   "language": "python",
   "name": "python3"
  },
  "language_info": {
   "codemirror_mode": {
    "name": "ipython",
    "version": 3
   },
   "file_extension": ".py",
   "mimetype": "text/x-python",
   "name": "python",
   "nbconvert_exporter": "python",
   "pygments_lexer": "ipython3",
   "version": "3.11.1"
  }
 },
 "nbformat": 4,
 "nbformat_minor": 5
}

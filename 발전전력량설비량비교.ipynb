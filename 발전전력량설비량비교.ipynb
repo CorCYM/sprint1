{
 "cells": [
  {
   "cell_type": "code",
   "execution_count": 1,
   "id": "4c5d862b-9315-4dc8-a420-cf129c71f4f0",
   "metadata": {
    "tags": []
   },
   "outputs": [],
   "source": [
    "from matplotlib import font_manager, rc\n",
    "import matplotlib\n",
    "import matplotlib.pyplot as plt\n",
    "import seaborn as sns\n",
    "import pandas as pd\n",
    "import numpy as np\n",
    "import platform\n",
    "\n",
    "if platform.system() == 'Windows':\n",
    "# 윈도우인 경우 맑은 고딕 폰트 이용\n",
    "    font_name = font_manager.FontProperties(fname=\"c:/Windows/Fonts/malgun.ttf\"\n",
    "                                           ).get_name()\n",
    "    rc('font', family=font_name,size=8)\n",
    "else:    \n",
    "# Mac 인 경우\n",
    "    rc('font', family='AppleGothic',size=8)\n",
    "#그래프에서 마이너스 기호가 표시되게 하는 설정입니다.\n",
    "matplotlib.rcParams['axes.unicode_minus'] = False"
   ]
  },
  {
   "cell_type": "code",
   "execution_count": 2,
   "id": "62889521-4668-4dcc-8d97-a7284f06669a",
   "metadata": {
    "tags": []
   },
   "outputs": [],
   "source": [
    "# 발전전력량, 설비량 데이터 불러오기\n",
    "electric21 = pd.read_csv('data/2021발전전력량추이.csv')\n",
    "generate21 = pd.read_csv('data/2021발전설비추이.csv')"
   ]
  },
  {
   "cell_type": "code",
   "execution_count": 3,
   "id": "8d2b7c17-5d1f-4ab2-b989-6c870a201c6c",
   "metadata": {
    "tags": []
   },
   "outputs": [],
   "source": [
    "# 'Unnamed: 0' 컬럼 삭제\n",
    "electric21.drop(labels=['Unnamed: 0'], axis=1, inplace=True)\n",
    "generate21.drop(labels=['Unnamed: 0'], axis=1, inplace=True)"
   ]
  },
  {
   "cell_type": "code",
   "execution_count": 4,
   "id": "9637690f-3f12-4ae6-9f89-c2c05bddf22c",
   "metadata": {
    "tags": []
   },
   "outputs": [
    {
     "data": {
      "text/html": [
       "<div>\n",
       "<style scoped>\n",
       "    .dataframe tbody tr th:only-of-type {\n",
       "        vertical-align: middle;\n",
       "    }\n",
       "\n",
       "    .dataframe tbody tr th {\n",
       "        vertical-align: top;\n",
       "    }\n",
       "\n",
       "    .dataframe thead th {\n",
       "        text-align: right;\n",
       "    }\n",
       "</style>\n",
       "<table border=\"1\" class=\"dataframe\">\n",
       "  <thead>\n",
       "    <tr style=\"text-align: right;\">\n",
       "      <th></th>\n",
       "      <th>날짜</th>\n",
       "      <th>원자력</th>\n",
       "      <th>석  탄</th>\n",
       "      <th>가  스</th>\n",
       "      <th>신재생</th>\n",
       "      <th>유  류</th>\n",
       "      <th>양  수</th>\n",
       "      <th>기  타</th>\n",
       "    </tr>\n",
       "  </thead>\n",
       "  <tbody>\n",
       "    <tr>\n",
       "      <th>0</th>\n",
       "      <td>2021-01</td>\n",
       "      <td>14,042</td>\n",
       "      <td>17,800</td>\n",
       "      <td>17,339</td>\n",
       "      <td>3,149</td>\n",
       "      <td>301</td>\n",
       "      <td>324</td>\n",
       "      <td>201</td>\n",
       "    </tr>\n",
       "    <tr>\n",
       "      <th>1</th>\n",
       "      <td>2021-02</td>\n",
       "      <td>12,732</td>\n",
       "      <td>14,460</td>\n",
       "      <td>13,769</td>\n",
       "      <td>3,367</td>\n",
       "      <td>148</td>\n",
       "      <td>308</td>\n",
       "      <td>189</td>\n",
       "    </tr>\n",
       "  </tbody>\n",
       "</table>\n",
       "</div>"
      ],
      "text/plain": [
       "        날짜     원자력    석  탄    가  스    신재생  유  류  양  수  기  타\n",
       "0  2021-01  14,042  17,800  17,339  3,149   301   324   201\n",
       "1  2021-02  12,732  14,460  13,769  3,367   148   308   189"
      ]
     },
     "execution_count": 4,
     "metadata": {},
     "output_type": "execute_result"
    }
   ],
   "source": [
    "electric21.head(2)"
   ]
  },
  {
   "cell_type": "code",
   "execution_count": 5,
   "id": "8e10a90b-a76e-4cf9-8b15-cba5af8e1076",
   "metadata": {
    "tags": []
   },
   "outputs": [
    {
     "name": "stdout",
     "output_type": "stream",
     "text": [
      "<class 'pandas.core.frame.DataFrame'>\n",
      "RangeIndex: 12 entries, 0 to 11\n",
      "Data columns (total 8 columns):\n",
      " #   Column  Non-Null Count  Dtype \n",
      "---  ------  --------------  ----- \n",
      " 0   날짜      12 non-null     object\n",
      " 1   원자력     12 non-null     object\n",
      " 2   석  탄    12 non-null     object\n",
      " 3   가  스    12 non-null     object\n",
      " 4   신재생     12 non-null     object\n",
      " 5   유  류    12 non-null     int64 \n",
      " 6   양  수    12 non-null     int64 \n",
      " 7   기  타    12 non-null     int64 \n",
      "dtypes: int64(3), object(5)\n",
      "memory usage: 896.0+ bytes\n"
     ]
    }
   ],
   "source": [
    "electric21.info()"
   ]
  },
  {
   "cell_type": "code",
   "execution_count": 6,
   "id": "3ab7d9bd-01df-4fab-9f82-76f5cee08bc9",
   "metadata": {
    "tags": []
   },
   "outputs": [],
   "source": [
    "electric21['원자력'] = electric21['원자력'].replace(',','',regex=True).astype('int64')\n",
    "electric21['석  탄'] = electric21['석  탄'].replace(',','',regex=True).astype('int64')\n",
    "electric21['가  스'] = electric21['가  스'].replace(',','',regex=True).astype('int64')\n",
    "electric21['신재생'] = electric21['신재생'].replace(',','',regex=True).astype('int64')"
   ]
  },
  {
   "cell_type": "code",
   "execution_count": 7,
   "id": "e96bb2d7-27b7-430a-82b1-45937c73955b",
   "metadata": {
    "tags": []
   },
   "outputs": [
    {
     "name": "stdout",
     "output_type": "stream",
     "text": [
      "<class 'pandas.core.frame.DataFrame'>\n",
      "RangeIndex: 12 entries, 0 to 11\n",
      "Data columns (total 8 columns):\n",
      " #   Column  Non-Null Count  Dtype \n",
      "---  ------  --------------  ----- \n",
      " 0   날짜      12 non-null     object\n",
      " 1   원자력     12 non-null     object\n",
      " 2   석  탄    12 non-null     object\n",
      " 3   가  스    12 non-null     object\n",
      " 4   신재생     12 non-null     object\n",
      " 5   유  류    12 non-null     object\n",
      " 6   양  수    12 non-null     object\n",
      " 7   기  타    12 non-null     int64 \n",
      "dtypes: int64(1), object(7)\n",
      "memory usage: 896.0+ bytes\n"
     ]
    }
   ],
   "source": [
    "generate21.info()"
   ]
  },
  {
   "cell_type": "code",
   "execution_count": 8,
   "id": "00ee26b8-1ea6-41ec-b0e0-fe0f9c002423",
   "metadata": {
    "tags": []
   },
   "outputs": [],
   "source": [
    "generate21['원자력'] = generate21['원자력'].replace(',','',regex=True).astype('int64')\n",
    "generate21['석  탄'] = generate21['석  탄'].replace(',','',regex=True).astype('int64')\n",
    "generate21['가  스'] = generate21['가  스'].replace(',','',regex=True).astype('int64')\n",
    "generate21['신재생'] = generate21['신재생'].replace(',','',regex=True).astype('int64')\n",
    "generate21['유  류'] = generate21['유  류'].replace(',','',regex=True).astype('int64')\n",
    "generate21['양  수'] = generate21['양  수'].replace(',','',regex=True).astype('int64')"
   ]
  },
  {
   "cell_type": "markdown",
   "id": "670f367e-3473-4fc9-bc8a-38b3acccfb5f",
   "metadata": {},
   "source": [
    "---"
   ]
  },
  {
   "cell_type": "code",
   "execution_count": 9,
   "id": "07b8dba6-935f-45ab-9e0c-fd7fd41def9a",
   "metadata": {
    "tags": []
   },
   "outputs": [
    {
     "data": {
      "text/html": [
       "<div>\n",
       "<style scoped>\n",
       "    .dataframe tbody tr th:only-of-type {\n",
       "        vertical-align: middle;\n",
       "    }\n",
       "\n",
       "    .dataframe tbody tr th {\n",
       "        vertical-align: top;\n",
       "    }\n",
       "\n",
       "    .dataframe thead th {\n",
       "        text-align: right;\n",
       "    }\n",
       "</style>\n",
       "<table border=\"1\" class=\"dataframe\">\n",
       "  <thead>\n",
       "    <tr style=\"text-align: right;\">\n",
       "      <th></th>\n",
       "      <th>원자력</th>\n",
       "      <th>석  탄</th>\n",
       "      <th>가  스</th>\n",
       "      <th>신재생</th>\n",
       "      <th>유  류</th>\n",
       "      <th>양  수</th>\n",
       "      <th>기  타</th>\n",
       "    </tr>\n",
       "  </thead>\n",
       "  <tbody>\n",
       "    <tr>\n",
       "      <th>count</th>\n",
       "      <td>12.000000</td>\n",
       "      <td>12.000000</td>\n",
       "      <td>12.000000</td>\n",
       "      <td>12.000000</td>\n",
       "      <td>12.000000</td>\n",
       "      <td>12.000000</td>\n",
       "      <td>12.000000</td>\n",
       "    </tr>\n",
       "    <tr>\n",
       "      <th>mean</th>\n",
       "      <td>13167.916667</td>\n",
       "      <td>16497.333333</td>\n",
       "      <td>14031.500000</td>\n",
       "      <td>3612.000000</td>\n",
       "      <td>196.333333</td>\n",
       "      <td>306.916667</td>\n",
       "      <td>255.666667</td>\n",
       "    </tr>\n",
       "    <tr>\n",
       "      <th>std</th>\n",
       "      <td>1307.001527</td>\n",
       "      <td>2713.050927</td>\n",
       "      <td>1493.445893</td>\n",
       "      <td>311.530533</td>\n",
       "      <td>75.285316</td>\n",
       "      <td>24.817363</td>\n",
       "      <td>50.985441</td>\n",
       "    </tr>\n",
       "    <tr>\n",
       "      <th>min</th>\n",
       "      <td>11314.000000</td>\n",
       "      <td>12862.000000</td>\n",
       "      <td>12192.000000</td>\n",
       "      <td>3149.000000</td>\n",
       "      <td>107.000000</td>\n",
       "      <td>256.000000</td>\n",
       "      <td>189.000000</td>\n",
       "    </tr>\n",
       "    <tr>\n",
       "      <th>25%</th>\n",
       "      <td>12489.000000</td>\n",
       "      <td>14498.250000</td>\n",
       "      <td>13140.750000</td>\n",
       "      <td>3469.750000</td>\n",
       "      <td>140.000000</td>\n",
       "      <td>294.250000</td>\n",
       "      <td>220.250000</td>\n",
       "    </tr>\n",
       "    <tr>\n",
       "      <th>50%</th>\n",
       "      <td>12770.000000</td>\n",
       "      <td>16298.000000</td>\n",
       "      <td>13610.500000</td>\n",
       "      <td>3573.500000</td>\n",
       "      <td>164.000000</td>\n",
       "      <td>308.500000</td>\n",
       "      <td>243.500000</td>\n",
       "    </tr>\n",
       "    <tr>\n",
       "      <th>75%</th>\n",
       "      <td>13625.250000</td>\n",
       "      <td>17900.250000</td>\n",
       "      <td>14708.000000</td>\n",
       "      <td>3739.000000</td>\n",
       "      <td>250.000000</td>\n",
       "      <td>320.250000</td>\n",
       "      <td>290.250000</td>\n",
       "    </tr>\n",
       "    <tr>\n",
       "      <th>max</th>\n",
       "      <td>16532.000000</td>\n",
       "      <td>21387.000000</td>\n",
       "      <td>17339.000000</td>\n",
       "      <td>4195.000000</td>\n",
       "      <td>339.000000</td>\n",
       "      <td>344.000000</td>\n",
       "      <td>359.000000</td>\n",
       "    </tr>\n",
       "  </tbody>\n",
       "</table>\n",
       "</div>"
      ],
      "text/plain": [
       "                원자력          석  탄          가  스          신재생        유  류   \n",
       "count     12.000000     12.000000     12.000000    12.000000   12.000000  \\\n",
       "mean   13167.916667  16497.333333  14031.500000  3612.000000  196.333333   \n",
       "std     1307.001527   2713.050927   1493.445893   311.530533   75.285316   \n",
       "min    11314.000000  12862.000000  12192.000000  3149.000000  107.000000   \n",
       "25%    12489.000000  14498.250000  13140.750000  3469.750000  140.000000   \n",
       "50%    12770.000000  16298.000000  13610.500000  3573.500000  164.000000   \n",
       "75%    13625.250000  17900.250000  14708.000000  3739.000000  250.000000   \n",
       "max    16532.000000  21387.000000  17339.000000  4195.000000  339.000000   \n",
       "\n",
       "             양  수        기  타  \n",
       "count   12.000000   12.000000  \n",
       "mean   306.916667  255.666667  \n",
       "std     24.817363   50.985441  \n",
       "min    256.000000  189.000000  \n",
       "25%    294.250000  220.250000  \n",
       "50%    308.500000  243.500000  \n",
       "75%    320.250000  290.250000  \n",
       "max    344.000000  359.000000  "
      ]
     },
     "execution_count": 9,
     "metadata": {},
     "output_type": "execute_result"
    }
   ],
   "source": [
    "# 데이터 기초통계량 확인\n",
    "electric21.describe()"
   ]
  },
  {
   "cell_type": "code",
   "execution_count": 10,
   "id": "9fe49382-6320-497f-973e-c0b61df8b5bb",
   "metadata": {
    "tags": []
   },
   "outputs": [
    {
     "data": {
      "image/png": "[encoded data removed]",
      "text/plain": [
       "<Figure size 1000x900 with 9 Axes>"
      ]
     },
     "metadata": {},
     "output_type": "display_data"
    }
   ],
   "source": [
    "# 데이터 시각화\n",
    "electric21.hist(figsize=(10,9))\n",
    "plt.tight_layout() # 그래프 간격 설정\n",
    "plt.show()"
   ]
  },
  {
   "cell_type": "code",
   "execution_count": 11,
   "id": "6ac92d6b-5d2f-4162-b663-7ad279dfdc51",
   "metadata": {
    "tags": []
   },
   "outputs": [
    {
     "data": {
      "text/html": [
       "<div>\n",
       "<style scoped>\n",
       "    .dataframe tbody tr th:only-of-type {\n",
       "        vertical-align: middle;\n",
       "    }\n",
       "\n",
       "    .dataframe tbody tr th {\n",
       "        vertical-align: top;\n",
       "    }\n",
       "\n",
       "    .dataframe thead th {\n",
       "        text-align: right;\n",
       "    }\n",
       "</style>\n",
       "<table border=\"1\" class=\"dataframe\">\n",
       "  <thead>\n",
       "    <tr style=\"text-align: right;\">\n",
       "      <th></th>\n",
       "      <th>날짜</th>\n",
       "      <th>원자력</th>\n",
       "      <th>석  탄</th>\n",
       "      <th>가  스</th>\n",
       "      <th>신재생</th>\n",
       "      <th>유  류</th>\n",
       "      <th>양  수</th>\n",
       "      <th>기  타</th>\n",
       "    </tr>\n",
       "  </thead>\n",
       "  <tbody>\n",
       "    <tr>\n",
       "      <th>0</th>\n",
       "      <td>2021-01</td>\n",
       "      <td>14042</td>\n",
       "      <td>17800</td>\n",
       "      <td>17339</td>\n",
       "      <td>3149</td>\n",
       "      <td>301</td>\n",
       "      <td>324</td>\n",
       "      <td>201</td>\n",
       "    </tr>\n",
       "    <tr>\n",
       "      <th>1</th>\n",
       "      <td>2021-02</td>\n",
       "      <td>12732</td>\n",
       "      <td>14460</td>\n",
       "      <td>13769</td>\n",
       "      <td>3367</td>\n",
       "      <td>148</td>\n",
       "      <td>308</td>\n",
       "      <td>189</td>\n",
       "    </tr>\n",
       "  </tbody>\n",
       "</table>\n",
       "</div>"
      ],
      "text/plain": [
       "        날짜    원자력   석  탄   가  스   신재생  유  류  양  수  기  타\n",
       "0  2021-01  14042  17800  17339  3149   301   324   201\n",
       "1  2021-02  12732  14460  13769  3367   148   308   189"
      ]
     },
     "execution_count": 11,
     "metadata": {},
     "output_type": "execute_result"
    }
   ],
   "source": [
    "electric21.head(2)"
   ]
  },
  {
   "cell_type": "code",
   "execution_count": 12,
   "id": "007a0aeb-ed2e-49a3-9053-75cde8f750e6",
   "metadata": {
    "tags": []
   },
   "outputs": [
    {
     "data": {
      "text/plain": [
       "0     2021-01\n",
       "1     2021-02\n",
       "2     2021-03\n",
       "3     2021-04\n",
       "4     2021-05\n",
       "5     2021-06\n",
       "6     2021-07\n",
       "7     2021-08\n",
       "8     2021-09\n",
       "9     2021-10\n",
       "10    2021-11\n",
       "11    2021-12\n",
       "Name: 날짜, dtype: object"
      ]
     },
     "execution_count": 12,
     "metadata": {},
     "output_type": "execute_result"
    }
   ],
   "source": [
    "electric21['날짜']"
   ]
  },
  {
   "cell_type": "code",
   "execution_count": 13,
   "id": "bda99e1a-dd6b-498a-a1cb-89281a1c9909",
   "metadata": {
    "tags": []
   },
   "outputs": [
    {
     "data": {
      "text/html": [
       "<div>\n",
       "<style scoped>\n",
       "    .dataframe tbody tr th:only-of-type {\n",
       "        vertical-align: middle;\n",
       "    }\n",
       "\n",
       "    .dataframe tbody tr th {\n",
       "        vertical-align: top;\n",
       "    }\n",
       "\n",
       "    .dataframe thead th {\n",
       "        text-align: right;\n",
       "    }\n",
       "</style>\n",
       "<table border=\"1\" class=\"dataframe\">\n",
       "  <thead>\n",
       "    <tr style=\"text-align: right;\">\n",
       "      <th></th>\n",
       "      <th>원자력</th>\n",
       "      <th>석  탄</th>\n",
       "      <th>가  스</th>\n",
       "      <th>신재생</th>\n",
       "      <th>유  류</th>\n",
       "      <th>양  수</th>\n",
       "      <th>기  타</th>\n",
       "    </tr>\n",
       "    <tr>\n",
       "      <th>날짜</th>\n",
       "      <th></th>\n",
       "      <th></th>\n",
       "      <th></th>\n",
       "      <th></th>\n",
       "      <th></th>\n",
       "      <th></th>\n",
       "      <th></th>\n",
       "    </tr>\n",
       "  </thead>\n",
       "  <tbody>\n",
       "    <tr>\n",
       "      <th>2021-01</th>\n",
       "      <td>14042</td>\n",
       "      <td>17800</td>\n",
       "      <td>17339</td>\n",
       "      <td>3149</td>\n",
       "      <td>301</td>\n",
       "      <td>324</td>\n",
       "      <td>201</td>\n",
       "    </tr>\n",
       "    <tr>\n",
       "      <th>2021-02</th>\n",
       "      <td>12732</td>\n",
       "      <td>14460</td>\n",
       "      <td>13769</td>\n",
       "      <td>3367</td>\n",
       "      <td>148</td>\n",
       "      <td>308</td>\n",
       "      <td>189</td>\n",
       "    </tr>\n",
       "  </tbody>\n",
       "</table>\n",
       "</div>"
      ],
      "text/plain": [
       "           원자력   석  탄   가  스   신재생  유  류  양  수  기  타\n",
       "날짜                                                  \n",
       "2021-01  14042  17800  17339  3149   301   324   201\n",
       "2021-02  12732  14460  13769  3367   148   308   189"
      ]
     },
     "execution_count": 13,
     "metadata": {},
     "output_type": "execute_result"
    }
   ],
   "source": [
    "electric21 = electric21.set_index('날짜')\n",
    "electric21.head(2)"
   ]
  },
  {
   "cell_type": "code",
   "execution_count": 14,
   "id": "96bd958c-2517-4416-8659-f6a5f17ed7cd",
   "metadata": {
    "tags": []
   },
   "outputs": [
    {
     "data": {
      "text/html": [
       "<div>\n",
       "<style scoped>\n",
       "    .dataframe tbody tr th:only-of-type {\n",
       "        vertical-align: middle;\n",
       "    }\n",
       "\n",
       "    .dataframe tbody tr th {\n",
       "        vertical-align: top;\n",
       "    }\n",
       "\n",
       "    .dataframe thead th {\n",
       "        text-align: right;\n",
       "    }\n",
       "</style>\n",
       "<table border=\"1\" class=\"dataframe\">\n",
       "  <thead>\n",
       "    <tr style=\"text-align: right;\">\n",
       "      <th></th>\n",
       "      <th>원자력</th>\n",
       "      <th>석  탄</th>\n",
       "      <th>가  스</th>\n",
       "      <th>신재생</th>\n",
       "      <th>유  류</th>\n",
       "      <th>양  수</th>\n",
       "      <th>기  타</th>\n",
       "    </tr>\n",
       "    <tr>\n",
       "      <th>날짜</th>\n",
       "      <th></th>\n",
       "      <th></th>\n",
       "      <th></th>\n",
       "      <th></th>\n",
       "      <th></th>\n",
       "      <th></th>\n",
       "      <th></th>\n",
       "    </tr>\n",
       "  </thead>\n",
       "  <tbody>\n",
       "    <tr>\n",
       "      <th>2021-01</th>\n",
       "      <td>23250</td>\n",
       "      <td>35853</td>\n",
       "      <td>41170</td>\n",
       "      <td>21491</td>\n",
       "      <td>2159</td>\n",
       "      <td>4700</td>\n",
       "      <td>197</td>\n",
       "    </tr>\n",
       "    <tr>\n",
       "      <th>2021-02</th>\n",
       "      <td>23250</td>\n",
       "      <td>35853</td>\n",
       "      <td>41170</td>\n",
       "      <td>21785</td>\n",
       "      <td>2159</td>\n",
       "      <td>4700</td>\n",
       "      <td>197</td>\n",
       "    </tr>\n",
       "  </tbody>\n",
       "</table>\n",
       "</div>"
      ],
      "text/plain": [
       "           원자력   석  탄   가  스    신재생  유  류  양  수  기  타\n",
       "날짜                                                   \n",
       "2021-01  23250  35853  41170  21491  2159  4700   197\n",
       "2021-02  23250  35853  41170  21785  2159  4700   197"
      ]
     },
     "execution_count": 14,
     "metadata": {},
     "output_type": "execute_result"
    }
   ],
   "source": [
    "generate21 = generate21.set_index('날짜')\n",
    "generate21.head(2)"
   ]
  },
  {
   "cell_type": "code",
   "execution_count": 15,
   "id": "45bb1a31-86e3-418f-b9bb-27654e95cebc",
   "metadata": {
    "tags": []
   },
   "outputs": [
    {
     "data": {
      "text/plain": [
       "<AxesSubplot: xlabel='날짜'>"
      ]
     },
     "execution_count": 15,
     "metadata": {},
     "output_type": "execute_result"
    },
    {
     "data": {
      "image/png": "[encoded data removed]",
      "text/plain": [
       "<Figure size 640x480 with 1 Axes>"
      ]
     },
     "metadata": {},
     "output_type": "display_data"
    }
   ],
   "source": [
    "electric21.plot()"
   ]
  },
  {
   "cell_type": "code",
   "execution_count": 16,
   "id": "4f144da2-6d96-432b-83a3-025dcba146dd",
   "metadata": {
    "tags": []
   },
   "outputs": [
    {
     "data": {
      "text/plain": [
       "<AxesSubplot: xlabel='날짜'>"
      ]
     },
     "execution_count": 16,
     "metadata": {},
     "output_type": "execute_result"
    },
    {
     "data": {
      "image/png": "[encoded data removed]",
      "text/plain": [
       "<Figure size 640x480 with 1 Axes>"
      ]
     },
     "metadata": {},
     "output_type": "display_data"
    }
   ],
   "source": [
    "generate21.plot()"
   ]
  },
  {
   "cell_type": "code",
   "execution_count": 17,
   "id": "b9261a1b-b865-47b9-b1b3-979c8c891f2f",
   "metadata": {
    "tags": []
   },
   "outputs": [
    {
     "data": {
      "text/plain": [
       "Index(['원자력', '석  탄', '가  스', '신재생', '유  류', '양  수', '기  타'], dtype='object')"
      ]
     },
     "execution_count": 17,
     "metadata": {},
     "output_type": "execute_result"
    }
   ],
   "source": [
    "generate21.columns"
   ]
  },
  {
   "cell_type": "code",
   "execution_count": 18,
   "id": "67f693c5-ec17-49f8-b80d-7e8fbb6ab9b2",
   "metadata": {
    "tags": []
   },
   "outputs": [
    {
     "data": {
      "image/png": "[encoded data removed]",
      "text/plain": [
       "<Figure size 800x400 with 1 Axes>"
      ]
     },
     "metadata": {},
     "output_type": "display_data"
    }
   ],
   "source": [
    "# 2017, 2021 비교\n",
    "plt.rcParams['axes.unicode_minus'] = 'False'\n",
    "generate21 = generate21['석  탄']\n",
    "electric21 = electric21['석  탄']\n",
    "\n",
    "fig = plt.figure(figsize=(8,4))\n",
    "\n",
    "plt.plot(generate21, label='발전설비량', color='#6799FF', linestyle='-')\n",
    "plt.plot(electric21, label='발전전력량', color ='#F29661', linestyle='-')\n",
    "plt.ylim(0,50000)\n",
    "plt.title('발전전력량 설비량 비교')\n",
    "plt.ylabel('석  탄')\n",
    "plt.legend(loc='upper left',frameon=False)\n",
    "\n",
    "plt.show()"
   ]
  },
  {
   "cell_type": "code",
   "execution_count": 19,
   "id": "d18a3d7a-2a85-41cd-b3a3-92dc41082265",
   "metadata": {
    "tags": []
   },
   "outputs": [],
   "source": [
    "# x = np.arange(2021.01, 2021.12)\n",
    "# y1 = electric21['석  탄']\n",
    "# y2 = generate21['석  탄']\n",
    "\n",
    "# fig, ax1 = plt.subplots()\n",
    "\n",
    "# #발전전력량, 설비량\n",
    "# ax1.plot(x, y1, '-', color='green', markersize=7, linewidth=3, alpha=0.7, label='발전전력량')\n",
    "# ax1.set_ylim(0,18)\n",
    "# ax1.set_xlabel('month')\n",
    "# ax1.set_ylabel('발전전력량')\n",
    "# ax1.tick_params(axis='both', direction='in')\n",
    "\n",
    "# ax2 = ax1.twinx()\n",
    "# ax2.bar(x, y2, color='deeppink', label='발전설비량', alpha=0.7, width=0.7)\n",
    "# ax2.set_ylim(0,18)\n",
    "# ax2.set_ylabel('발전설비량')\n",
    "# ax2.tick_params(axis='y', direction='in')\n",
    "\n",
    "# ax1.set_zorder(ax2.get_zorder() + 10)\n",
    "# ax1.patch.set_visible(False)\n",
    "\n",
    "# ax1.legend(loc='upper left')\n",
    "# ax2.legend(loc='upper right')\n",
    "\n",
    "# plt.show()"
   ]
  },
  {
   "cell_type": "code",
   "execution_count": null,
   "id": "75e703ea-bb50-4aa5-aacb-e74b8581e2eb",
   "metadata": {},
   "outputs": [],
   "source": []
  }
 ],
 "metadata": {
  "kernelspec": {
   "display_name": "Python 3 (ipykernel)",
   "language": "python",
   "name": "python3"
  },
  "language_info": {
   "codemirror_mode": {
    "name": "ipython",
    "version": 3
   },
   "file_extension": ".py",
   "mimetype": "text/x-python",
   "name": "python",
   "nbconvert_exporter": "python",
   "pygments_lexer": "ipython3",
   "version": "3.11.1"
  }
 },
 "nbformat": 4,
 "nbformat_minor": 5
}

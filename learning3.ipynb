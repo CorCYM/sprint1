{
 "cells": [
  {
   "cell_type": "code",
   "execution_count": 146,
   "id": "e83fe133-1aad-4f3c-a53f-d720baa2e565",
   "metadata": {
    "tags": []
   },
   "outputs": [],
   "source": [
    "from matplotlib import font_manager, rc\n",
    "import matplotlib\n",
    "import matplotlib.pyplot as plt\n",
    "import seaborn as sns\n",
    "import pandas as pd\n",
    "import numpy as np\n",
    "import platform\n",
    "from sklearn.linear_model import LinearRegression\n",
    "from sklearn.model_selection import train_test_split\n",
    "from sklearn.metrics import mean_squared_error, r2_score\n",
    "from sklearn.model_selection import cross_val_score\n",
    "from sklearn.linear_model import Ridge, Lasso, ElasticNet\n",
    "from sklearn.metrics import mean_squared_error, mean_absolute_error\n",
    "from sklearn.preprocessing import OneHotEncoder\n",
    "import warnings\n",
    "warnings.filterwarnings('ignore')"
   ]
  },
  {
   "cell_type": "code",
   "execution_count": 147,
   "id": "db200ffd-fecf-4383-b12f-ae035dc65fb0",
   "metadata": {
    "tags": []
   },
   "outputs": [
    {
     "data": {
      "text/html": [
       "<div>\n",
       "<style scoped>\n",
       "    .dataframe tbody tr th:only-of-type {\n",
       "        vertical-align: middle;\n",
       "    }\n",
       "\n",
       "    .dataframe tbody tr th {\n",
       "        vertical-align: top;\n",
       "    }\n",
       "\n",
       "    .dataframe thead th {\n",
       "        text-align: right;\n",
       "    }\n",
       "</style>\n",
       "<table border=\"1\" class=\"dataframe\">\n",
       "  <thead>\n",
       "    <tr style=\"text-align: right;\">\n",
       "      <th></th>\n",
       "      <th>날짜</th>\n",
       "      <th>시간</th>\n",
       "      <th>기온(°C)</th>\n",
       "      <th>강수량(mm)</th>\n",
       "      <th>풍속(m/s)</th>\n",
       "      <th>습도(%)</th>\n",
       "    </tr>\n",
       "  </thead>\n",
       "  <tbody>\n",
       "    <tr>\n",
       "      <th>0</th>\n",
       "      <td>2017-06-01</td>\n",
       "      <td>0:00</td>\n",
       "      <td>21.4</td>\n",
       "      <td>0.0</td>\n",
       "      <td>1.8</td>\n",
       "      <td>74.0</td>\n",
       "    </tr>\n",
       "    <tr>\n",
       "      <th>1</th>\n",
       "      <td>2017-06-01</td>\n",
       "      <td>1:00</td>\n",
       "      <td>21.5</td>\n",
       "      <td>0.0</td>\n",
       "      <td>0.9</td>\n",
       "      <td>75.0</td>\n",
       "    </tr>\n",
       "    <tr>\n",
       "      <th>2</th>\n",
       "      <td>2017-06-01</td>\n",
       "      <td>2:00</td>\n",
       "      <td>21.3</td>\n",
       "      <td>0.0</td>\n",
       "      <td>1.7</td>\n",
       "      <td>77.0</td>\n",
       "    </tr>\n",
       "    <tr>\n",
       "      <th>3</th>\n",
       "      <td>2017-06-01</td>\n",
       "      <td>3:00</td>\n",
       "      <td>20.9</td>\n",
       "      <td>0.0</td>\n",
       "      <td>2.4</td>\n",
       "      <td>81.0</td>\n",
       "    </tr>\n",
       "    <tr>\n",
       "      <th>4</th>\n",
       "      <td>2017-06-01</td>\n",
       "      <td>4:00</td>\n",
       "      <td>20.6</td>\n",
       "      <td>0.0</td>\n",
       "      <td>1.1</td>\n",
       "      <td>82.0</td>\n",
       "    </tr>\n",
       "    <tr>\n",
       "      <th>...</th>\n",
       "      <td>...</td>\n",
       "      <td>...</td>\n",
       "      <td>...</td>\n",
       "      <td>...</td>\n",
       "      <td>...</td>\n",
       "      <td>...</td>\n",
       "    </tr>\n",
       "    <tr>\n",
       "      <th>11035</th>\n",
       "      <td>2021-08-31</td>\n",
       "      <td>19:00</td>\n",
       "      <td>18.1</td>\n",
       "      <td>3.8</td>\n",
       "      <td>3.9</td>\n",
       "      <td>98.0</td>\n",
       "    </tr>\n",
       "    <tr>\n",
       "      <th>11036</th>\n",
       "      <td>2021-08-31</td>\n",
       "      <td>20:00</td>\n",
       "      <td>18.1</td>\n",
       "      <td>1.6</td>\n",
       "      <td>4.3</td>\n",
       "      <td>99.0</td>\n",
       "    </tr>\n",
       "    <tr>\n",
       "      <th>11037</th>\n",
       "      <td>2021-08-31</td>\n",
       "      <td>21:00</td>\n",
       "      <td>18.1</td>\n",
       "      <td>3.6</td>\n",
       "      <td>3.8</td>\n",
       "      <td>99.0</td>\n",
       "    </tr>\n",
       "    <tr>\n",
       "      <th>11038</th>\n",
       "      <td>2021-08-31</td>\n",
       "      <td>22:00</td>\n",
       "      <td>18.3</td>\n",
       "      <td>2.1</td>\n",
       "      <td>3.3</td>\n",
       "      <td>100.0</td>\n",
       "    </tr>\n",
       "    <tr>\n",
       "      <th>11039</th>\n",
       "      <td>2021-08-31</td>\n",
       "      <td>23:00</td>\n",
       "      <td>18.5</td>\n",
       "      <td>7.8</td>\n",
       "      <td>2.6</td>\n",
       "      <td>100.0</td>\n",
       "    </tr>\n",
       "  </tbody>\n",
       "</table>\n",
       "<p>11040 rows × 6 columns</p>\n",
       "</div>"
      ],
      "text/plain": [
       "               날짜     시간  기온(°C)  강수량(mm)  풍속(m/s)  습도(%)\n",
       "0      2017-06-01   0:00    21.4      0.0      1.8   74.0\n",
       "1      2017-06-01   1:00    21.5      0.0      0.9   75.0\n",
       "2      2017-06-01   2:00    21.3      0.0      1.7   77.0\n",
       "3      2017-06-01   3:00    20.9      0.0      2.4   81.0\n",
       "4      2017-06-01   4:00    20.6      0.0      1.1   82.0\n",
       "...           ...    ...     ...      ...      ...    ...\n",
       "11035  2021-08-31  19:00    18.1      3.8      3.9   98.0\n",
       "11036  2021-08-31  20:00    18.1      1.6      4.3   99.0\n",
       "11037  2021-08-31  21:00    18.1      3.6      3.8   99.0\n",
       "11038  2021-08-31  22:00    18.3      2.1      3.3  100.0\n",
       "11039  2021-08-31  23:00    18.5      7.8      2.6  100.0\n",
       "\n",
       "[11040 rows x 6 columns]"
      ]
     },
     "execution_count": 147,
     "metadata": {},
     "output_type": "execute_result"
    }
   ],
   "source": [
    "tem1721 = pd.read_csv(\"data/5년기온데이터_전처리.csv\").drop(['Unnamed: 0'], axis=1)\n",
    "tem17210608 = tem1721[tem1721['날짜'].str.contains(\n",
    "    \"2017-06|2017-07|2017-08|2018-06|2018-07|2018-08|2019-06|2019-07|2019-08|2020-06|2020-07|2020-08|2021-06|2021-07|2021-08\")].reset_index()\n",
    "tem17210608.drop('index',axis=1, inplace=True)\n",
    "tem17210608"
   ]
  },
  {
   "cell_type": "code",
   "execution_count": 148,
   "id": "0d68e7c8-cb24-460c-879a-95b5726e4d42",
   "metadata": {
    "tags": []
   },
   "outputs": [
    {
     "data": {
      "text/html": [
       "<div>\n",
       "<style scoped>\n",
       "    .dataframe tbody tr th:only-of-type {\n",
       "        vertical-align: middle;\n",
       "    }\n",
       "\n",
       "    .dataframe tbody tr th {\n",
       "        vertical-align: top;\n",
       "    }\n",
       "\n",
       "    .dataframe thead th {\n",
       "        text-align: right;\n",
       "    }\n",
       "</style>\n",
       "<table border=\"1\" class=\"dataframe\">\n",
       "  <thead>\n",
       "    <tr style=\"text-align: right;\">\n",
       "      <th></th>\n",
       "      <th>날짜</th>\n",
       "      <th>시간</th>\n",
       "      <th>수요량</th>\n",
       "    </tr>\n",
       "  </thead>\n",
       "  <tbody>\n",
       "    <tr>\n",
       "      <th>0</th>\n",
       "      <td>2017-06-01</td>\n",
       "      <td>00:00</td>\n",
       "      <td>58038</td>\n",
       "    </tr>\n",
       "    <tr>\n",
       "      <th>1</th>\n",
       "      <td>2017-06-01</td>\n",
       "      <td>01:00</td>\n",
       "      <td>54763</td>\n",
       "    </tr>\n",
       "    <tr>\n",
       "      <th>2</th>\n",
       "      <td>2017-06-01</td>\n",
       "      <td>02:00</td>\n",
       "      <td>52836</td>\n",
       "    </tr>\n",
       "    <tr>\n",
       "      <th>3</th>\n",
       "      <td>2017-06-01</td>\n",
       "      <td>03:00</td>\n",
       "      <td>51956</td>\n",
       "    </tr>\n",
       "    <tr>\n",
       "      <th>4</th>\n",
       "      <td>2017-06-01</td>\n",
       "      <td>04:00</td>\n",
       "      <td>51299</td>\n",
       "    </tr>\n",
       "    <tr>\n",
       "      <th>...</th>\n",
       "      <td>...</td>\n",
       "      <td>...</td>\n",
       "      <td>...</td>\n",
       "    </tr>\n",
       "    <tr>\n",
       "      <th>11035</th>\n",
       "      <td>2021-08-31</td>\n",
       "      <td>19:00</td>\n",
       "      <td>74786</td>\n",
       "    </tr>\n",
       "    <tr>\n",
       "      <th>11036</th>\n",
       "      <td>2021-08-31</td>\n",
       "      <td>20:00</td>\n",
       "      <td>74099</td>\n",
       "    </tr>\n",
       "    <tr>\n",
       "      <th>11037</th>\n",
       "      <td>2021-08-31</td>\n",
       "      <td>21:00</td>\n",
       "      <td>71232</td>\n",
       "    </tr>\n",
       "    <tr>\n",
       "      <th>11038</th>\n",
       "      <td>2021-08-31</td>\n",
       "      <td>22:00</td>\n",
       "      <td>68114</td>\n",
       "    </tr>\n",
       "    <tr>\n",
       "      <th>11039</th>\n",
       "      <td>2021-08-31</td>\n",
       "      <td>23:00</td>\n",
       "      <td>64780</td>\n",
       "    </tr>\n",
       "  </tbody>\n",
       "</table>\n",
       "<p>11040 rows × 3 columns</p>\n",
       "</div>"
      ],
      "text/plain": [
       "               날짜     시간    수요량\n",
       "0      2017-06-01  00:00  58038\n",
       "1      2017-06-01  01:00  54763\n",
       "2      2017-06-01  02:00  52836\n",
       "3      2017-06-01  03:00  51956\n",
       "4      2017-06-01  04:00  51299\n",
       "...           ...    ...    ...\n",
       "11035  2021-08-31  19:00  74786\n",
       "11036  2021-08-31  20:00  74099\n",
       "11037  2021-08-31  21:00  71232\n",
       "11038  2021-08-31  22:00  68114\n",
       "11039  2021-08-31  23:00  64780\n",
       "\n",
       "[11040 rows x 3 columns]"
      ]
     },
     "execution_count": 148,
     "metadata": {},
     "output_type": "execute_result"
    }
   ],
   "source": [
    "elec1721=pd.read_csv(\"data/fintime17_21_df.csv\")\n",
    "elec17210608 = elec1721[elec1721['날짜'].str.contains(\n",
    "    \"2017-06|2017-07|2017-08|2018-06|2018-07|2018-08|2019-06|2019-07|2019-08|2020-06|2020-07|2020-08|2021-06|2021-07|2021-08\")].reset_index()\n",
    "elec17210608.drop('index',axis=1, inplace=True)\n",
    "elec17210608"
   ]
  },
  {
   "cell_type": "code",
   "execution_count": 149,
   "id": "38aea94d-8592-4aac-b2ef-2121c5200337",
   "metadata": {
    "tags": []
   },
   "outputs": [],
   "source": [
    "tem17210608.drop(['시간'], axis=1, inplace=True)\n",
    "elec17210608.drop(['날짜'], axis=1, inplace=True)\n",
    "fin17210608 = pd.concat([tem17210608,elec17210608],axis=1)"
   ]
  },
  {
   "cell_type": "code",
   "execution_count": 150,
   "id": "2f68b3c9-2932-4e23-989d-af30925b617f",
   "metadata": {
    "tags": []
   },
   "outputs": [
    {
     "name": "stdout",
     "output_type": "stream",
     "text": [
      "<class 'pandas.core.frame.DataFrame'>\n",
      "RangeIndex: 11040 entries, 0 to 11039\n",
      "Data columns (total 7 columns):\n",
      " #   Column   Non-Null Count  Dtype  \n",
      "---  ------   --------------  -----  \n",
      " 0   날짜       11040 non-null  object \n",
      " 1   기온(°C)   11040 non-null  float64\n",
      " 2   강수량(mm)  11040 non-null  float64\n",
      " 3   풍속(m/s)  11040 non-null  float64\n",
      " 4   습도(%)    11040 non-null  float64\n",
      " 5   시간       11040 non-null  object \n",
      " 6   수요량      11040 non-null  int64  \n",
      "dtypes: float64(4), int64(1), object(2)\n",
      "memory usage: 603.9+ KB\n"
     ]
    }
   ],
   "source": [
    "fin17210608.info()"
   ]
  },
  {
   "cell_type": "code",
   "execution_count": 151,
   "id": "235ed469-0b34-46ab-a871-7530a82bd02d",
   "metadata": {
    "tags": []
   },
   "outputs": [
    {
     "data": {
      "text/html": [
       "<div>\n",
       "<style scoped>\n",
       "    .dataframe tbody tr th:only-of-type {\n",
       "        vertical-align: middle;\n",
       "    }\n",
       "\n",
       "    .dataframe tbody tr th {\n",
       "        vertical-align: top;\n",
       "    }\n",
       "\n",
       "    .dataframe thead th {\n",
       "        text-align: right;\n",
       "    }\n",
       "</style>\n",
       "<table border=\"1\" class=\"dataframe\">\n",
       "  <thead>\n",
       "    <tr style=\"text-align: right;\">\n",
       "      <th></th>\n",
       "      <th>날짜</th>\n",
       "      <th>기온(°C)</th>\n",
       "      <th>강수량(mm)</th>\n",
       "      <th>풍속(m/s)</th>\n",
       "      <th>습도(%)</th>\n",
       "      <th>시간</th>\n",
       "      <th>수요량</th>\n",
       "      <th>연도</th>\n",
       "      <th>월</th>\n",
       "      <th>일</th>\n",
       "    </tr>\n",
       "  </thead>\n",
       "  <tbody>\n",
       "    <tr>\n",
       "      <th>0</th>\n",
       "      <td>2017-06-01</td>\n",
       "      <td>21.4</td>\n",
       "      <td>0.0</td>\n",
       "      <td>1.8</td>\n",
       "      <td>74.0</td>\n",
       "      <td>00:00</td>\n",
       "      <td>58038</td>\n",
       "      <td>2017</td>\n",
       "      <td>06</td>\n",
       "      <td>01</td>\n",
       "    </tr>\n",
       "    <tr>\n",
       "      <th>1</th>\n",
       "      <td>2017-06-01</td>\n",
       "      <td>21.5</td>\n",
       "      <td>0.0</td>\n",
       "      <td>0.9</td>\n",
       "      <td>75.0</td>\n",
       "      <td>01:00</td>\n",
       "      <td>54763</td>\n",
       "      <td>2017</td>\n",
       "      <td>06</td>\n",
       "      <td>01</td>\n",
       "    </tr>\n",
       "    <tr>\n",
       "      <th>2</th>\n",
       "      <td>2017-06-01</td>\n",
       "      <td>21.3</td>\n",
       "      <td>0.0</td>\n",
       "      <td>1.7</td>\n",
       "      <td>77.0</td>\n",
       "      <td>02:00</td>\n",
       "      <td>52836</td>\n",
       "      <td>2017</td>\n",
       "      <td>06</td>\n",
       "      <td>01</td>\n",
       "    </tr>\n",
       "    <tr>\n",
       "      <th>3</th>\n",
       "      <td>2017-06-01</td>\n",
       "      <td>20.9</td>\n",
       "      <td>0.0</td>\n",
       "      <td>2.4</td>\n",
       "      <td>81.0</td>\n",
       "      <td>03:00</td>\n",
       "      <td>51956</td>\n",
       "      <td>2017</td>\n",
       "      <td>06</td>\n",
       "      <td>01</td>\n",
       "    </tr>\n",
       "    <tr>\n",
       "      <th>4</th>\n",
       "      <td>2017-06-01</td>\n",
       "      <td>20.6</td>\n",
       "      <td>0.0</td>\n",
       "      <td>1.1</td>\n",
       "      <td>82.0</td>\n",
       "      <td>04:00</td>\n",
       "      <td>51299</td>\n",
       "      <td>2017</td>\n",
       "      <td>06</td>\n",
       "      <td>01</td>\n",
       "    </tr>\n",
       "    <tr>\n",
       "      <th>...</th>\n",
       "      <td>...</td>\n",
       "      <td>...</td>\n",
       "      <td>...</td>\n",
       "      <td>...</td>\n",
       "      <td>...</td>\n",
       "      <td>...</td>\n",
       "      <td>...</td>\n",
       "      <td>...</td>\n",
       "      <td>...</td>\n",
       "      <td>...</td>\n",
       "    </tr>\n",
       "    <tr>\n",
       "      <th>11035</th>\n",
       "      <td>2021-08-31</td>\n",
       "      <td>18.1</td>\n",
       "      <td>3.8</td>\n",
       "      <td>3.9</td>\n",
       "      <td>98.0</td>\n",
       "      <td>19:00</td>\n",
       "      <td>74786</td>\n",
       "      <td>2021</td>\n",
       "      <td>08</td>\n",
       "      <td>31</td>\n",
       "    </tr>\n",
       "    <tr>\n",
       "      <th>11036</th>\n",
       "      <td>2021-08-31</td>\n",
       "      <td>18.1</td>\n",
       "      <td>1.6</td>\n",
       "      <td>4.3</td>\n",
       "      <td>99.0</td>\n",
       "      <td>20:00</td>\n",
       "      <td>74099</td>\n",
       "      <td>2021</td>\n",
       "      <td>08</td>\n",
       "      <td>31</td>\n",
       "    </tr>\n",
       "    <tr>\n",
       "      <th>11037</th>\n",
       "      <td>2021-08-31</td>\n",
       "      <td>18.1</td>\n",
       "      <td>3.6</td>\n",
       "      <td>3.8</td>\n",
       "      <td>99.0</td>\n",
       "      <td>21:00</td>\n",
       "      <td>71232</td>\n",
       "      <td>2021</td>\n",
       "      <td>08</td>\n",
       "      <td>31</td>\n",
       "    </tr>\n",
       "    <tr>\n",
       "      <th>11038</th>\n",
       "      <td>2021-08-31</td>\n",
       "      <td>18.3</td>\n",
       "      <td>2.1</td>\n",
       "      <td>3.3</td>\n",
       "      <td>100.0</td>\n",
       "      <td>22:00</td>\n",
       "      <td>68114</td>\n",
       "      <td>2021</td>\n",
       "      <td>08</td>\n",
       "      <td>31</td>\n",
       "    </tr>\n",
       "    <tr>\n",
       "      <th>11039</th>\n",
       "      <td>2021-08-31</td>\n",
       "      <td>18.5</td>\n",
       "      <td>7.8</td>\n",
       "      <td>2.6</td>\n",
       "      <td>100.0</td>\n",
       "      <td>23:00</td>\n",
       "      <td>64780</td>\n",
       "      <td>2021</td>\n",
       "      <td>08</td>\n",
       "      <td>31</td>\n",
       "    </tr>\n",
       "  </tbody>\n",
       "</table>\n",
       "<p>11040 rows × 10 columns</p>\n",
       "</div>"
      ],
      "text/plain": [
       "               날짜  기온(°C)  강수량(mm)  풍속(m/s)  습도(%)     시간    수요량    연도   월   일\n",
       "0      2017-06-01    21.4      0.0      1.8   74.0  00:00  58038  2017  06  01\n",
       "1      2017-06-01    21.5      0.0      0.9   75.0  01:00  54763  2017  06  01\n",
       "2      2017-06-01    21.3      0.0      1.7   77.0  02:00  52836  2017  06  01\n",
       "3      2017-06-01    20.9      0.0      2.4   81.0  03:00  51956  2017  06  01\n",
       "4      2017-06-01    20.6      0.0      1.1   82.0  04:00  51299  2017  06  01\n",
       "...           ...     ...      ...      ...    ...    ...    ...   ...  ..  ..\n",
       "11035  2021-08-31    18.1      3.8      3.9   98.0  19:00  74786  2021  08  31\n",
       "11036  2021-08-31    18.1      1.6      4.3   99.0  20:00  74099  2021  08  31\n",
       "11037  2021-08-31    18.1      3.6      3.8   99.0  21:00  71232  2021  08  31\n",
       "11038  2021-08-31    18.3      2.1      3.3  100.0  22:00  68114  2021  08  31\n",
       "11039  2021-08-31    18.5      7.8      2.6  100.0  23:00  64780  2021  08  31\n",
       "\n",
       "[11040 rows x 10 columns]"
      ]
     },
     "execution_count": 151,
     "metadata": {},
     "output_type": "execute_result"
    }
   ],
   "source": [
    "fin17210608[['연도', '월', '일']] = fin17210608['날짜'].str.split('-', expand=True)\n",
    "fin17210608"
   ]
  },
  {
   "cell_type": "code",
   "execution_count": 152,
   "id": "4bd80c1e-3a6d-4d8b-b598-1f491459daf3",
   "metadata": {
    "tags": []
   },
   "outputs": [],
   "source": [
    "fin17210608 = fin17210608.loc[fin17210608['기온(°C)'] > 13] ## 이상치 값 제거"
   ]
  },
  {
   "cell_type": "code",
   "execution_count": 153,
   "id": "cd4780cf-8086-4fb1-a091-0d97520ae7c2",
   "metadata": {
    "tags": []
   },
   "outputs": [],
   "source": [
    "fin17210608['월'] = fin17210608['월'].astype(int)"
   ]
  },
  {
   "cell_type": "code",
   "execution_count": 154,
   "id": "b37ec075-0506-4707-8638-346873ee7798",
   "metadata": {
    "tags": []
   },
   "outputs": [
    {
     "data": {
      "image/png": "[encoded data removed]",
      "text/plain": [
       "<Figure size 640x480 with 1 Axes>"
      ]
     },
     "metadata": {},
     "output_type": "display_data"
    }
   ],
   "source": [
    "correlation = fin17210608['수요량'].corr(fin17210608['기온(°C)'])\n",
    "sns.scatterplot(x=fin17210608['기온(°C)'], y=fin17210608['수요량'])\n",
    "plt.title('correlation(상관계수): '+str(np.round(correlation,2)), fontsize=20)\n",
    "plt.xlabel(\"기온(°C)\",fontsize=12)\n",
    "plt.ylabel(\"수요량\",fontsize=12)\n",
    "plt.show()"
   ]
  },
  {
   "cell_type": "code",
   "execution_count": 155,
   "id": "5678e5f5-c64f-4148-a9f7-6c777a5e263e",
   "metadata": {
    "tags": []
   },
   "outputs": [],
   "source": [
    "# y = fin17210608['수요량']\n",
    "# x = fin17210608.drop(columns=['날짜', '수요량', '연도', '일'])"
   ]
  },
  {
   "cell_type": "code",
   "execution_count": 156,
   "id": "a145481c-7500-4653-84f6-8737482167db",
   "metadata": {
    "tags": []
   },
   "outputs": [],
   "source": [
    "fin17210608_ohe = pd.get_dummies(fin17210608, dtype=int)"
   ]
  },
  {
   "cell_type": "code",
   "execution_count": 157,
   "id": "4db2e083-1dbd-4971-8b18-dd97793cca0b",
   "metadata": {
    "tags": []
   },
   "outputs": [
    {
     "data": {
      "text/plain": [
       "(11039, 526)"
      ]
     },
     "execution_count": 157,
     "metadata": {},
     "output_type": "execute_result"
    }
   ],
   "source": [
    "fin17210608_ohe.shape"
   ]
  },
  {
   "cell_type": "code",
   "execution_count": 158,
   "id": "8332be95-d4d2-4aae-a840-66cca19624a4",
   "metadata": {
    "tags": []
   },
   "outputs": [
    {
     "data": {
      "text/plain": [
       "Series([], dtype: int64)"
      ]
     },
     "execution_count": 158,
     "metadata": {},
     "output_type": "execute_result"
    }
   ],
   "source": [
    "isnull_series = fin17210608_ohe.isnull().sum()\n",
    "isnull_series[isnull_series>0].sort_values(ascending=False)"
   ]
  },
  {
   "cell_type": "code",
   "execution_count": 174,
   "id": "f01bc73c-7c75-49f4-a6fd-3b0d2b40942e",
   "metadata": {
    "tags": []
   },
   "outputs": [
    {
     "data": {
      "text/plain": [
       "(11039, 1)"
      ]
     },
     "execution_count": 174,
     "metadata": {},
     "output_type": "execute_result"
    }
   ],
   "source": [
    "y = y.values.reshape(-1, 1)\n",
    "y.shape"
   ]
  },
  {
   "cell_type": "code",
   "execution_count": 175,
   "id": "253e6942-031b-41bb-bbe9-09eb8da2c1af",
   "metadata": {
    "tags": []
   },
   "outputs": [
    {
     "data": {
      "text/plain": [
       "(11039, 525)"
      ]
     },
     "execution_count": 175,
     "metadata": {},
     "output_type": "execute_result"
    }
   ],
   "source": [
    "x.shape"
   ]
  },
  {
   "cell_type": "code",
   "execution_count": 176,
   "id": "2ccb9d6d-07f8-40cf-9af5-f90f6375deb3",
   "metadata": {
    "tags": []
   },
   "outputs": [],
   "source": [
    "# x_train, x_test, y_train, y_test = train_test_split(x, y, test_size=0.3)\n",
    "## 원핫인코딩 적용\n",
    "# onehot_encoder = OneHotEncoder(handle_unknown='ignore')\n",
    "# onehot_encoder = OneHotEncoder()\n",
    "\n",
    "# x_train = onehot_encoder.fit_transform(x_train)\n",
    "\n",
    "# # 훈련 변수에 로그변환 적용\n",
    "# x_train_log = np.log1p(x_train)\n",
    "# y_train_log = np.log1p(y_train)\n",
    "\n",
    "# # 테스트 변수에 로그변환 적용\n",
    "# x_test_log = np.log1p(x_test)\n",
    "# y_test_log = np.log1p(y_test)"
   ]
  },
  {
   "cell_type": "code",
   "execution_count": 177,
   "id": "ffa50e63-45e2-4bac-8eaf-fc1f3d956376",
   "metadata": {
    "tags": []
   },
   "outputs": [],
   "source": [
    "def get_rmse(model, x_test_log, y_test_log):\n",
    "    from sklearn.metrics import mean_squared_error\n",
    "    pred = model.predict(x_test_log)\n",
    "    mse = mean_squared_error(y_test_log, pred)\n",
    "    rmse = np.sqrt(mse)\n",
    "    print(model.__class__.__name__,'로그 변환된 RMSE:', np.round(rmse, 3))\n",
    "    return rmse\n",
    "\n",
    "def get_rmses(models):\n",
    "    rmses = []\n",
    "    for model in models:\n",
    "        rmse = get_rmse(model, x_test_log, y_test_log)\n",
    "        rmses.append(rmse)\n",
    "    return rmses"
   ]
  },
  {
   "cell_type": "code",
   "execution_count": 187,
   "id": "f7ca1896-dbae-4d38-826a-8574236b3676",
   "metadata": {
    "tags": []
   },
   "outputs": [],
   "source": [
    "y = fin17210608_ohe['수요량']\n",
    "x = fin17210608_ohe.drop(columns=['수요량'])\n",
    "x_train, x_test, y_train, y_test = train_test_split(x,y,test_size=0.2)"
   ]
  },
  {
   "cell_type": "code",
   "execution_count": 188,
   "id": "4f1d574f-d61d-4ccf-a3ce-20a39707605a",
   "metadata": {
    "tags": []
   },
   "outputs": [
    {
     "name": "stdout",
     "output_type": "stream",
     "text": [
      "mse:10208957.036389634, rmse:3195.1458552607005, r2:0.8950473307052443\n"
     ]
    }
   ],
   "source": [
    "lr = LinearRegression()\n",
    "lr.fit(x_train, y_train)\n",
    "y_pred = lr.predict(x_test)\n",
    "mse = mean_squared_error(y_test, y_pred)\n",
    "rmse = np.sqrt(mse)\n",
    "r2 = r2_score(y_test, y_pred)\n",
    "print(f'mse:{mse}, rmse:{rmse}, r2:{r2}')"
   ]
  },
  {
   "cell_type": "code",
   "execution_count": 195,
   "id": "d6865d0b-7154-4ec1-86c0-f7e6eb035b19",
   "metadata": {
    "tags": []
   },
   "outputs": [
    {
     "name": "stdout",
     "output_type": "stream",
     "text": [
      "0.9105230531609239\n",
      "0.8950473307052443\n"
     ]
    }
   ],
   "source": [
    "print(lr.score(x_train, y_train))\n",
    "print(lr.score(x_test, y_test))"
   ]
  },
  {
   "cell_type": "code",
   "execution_count": 196,
   "id": "15280fe5-464a-4d0f-879c-b3c598bd3ba6",
   "metadata": {
    "tags": []
   },
   "outputs": [],
   "source": [
    "x_train_log = np.log1p(x_train)\n",
    "y_train_log = np.log1p(y_train)\n",
    "x_test_log = np.log1p(x_test)\n",
    "y_test_log = np.log1p(y_test)"
   ]
  },
  {
   "cell_type": "code",
   "execution_count": 197,
   "id": "ff07e137-0552-4212-9089-1150a24de52f",
   "metadata": {
    "tags": []
   },
   "outputs": [
    {
     "name": "stdout",
     "output_type": "stream",
     "text": [
      "LinearRegression 로그 변환된 RMSE: 0.045\n",
      "Ridge 로그 변환된 RMSE: 0.046\n",
      "Lasso 로그 변환된 RMSE: 0.151\n"
     ]
    },
    {
     "data": {
      "text/plain": [
       "[0.045044362608841676, 0.046346096914752166, 0.151398385137924]"
      ]
     },
     "execution_count": 197,
     "metadata": {},
     "output_type": "execute_result"
    }
   ],
   "source": [
    "lr_reg = LinearRegression()\n",
    "lr_reg.fit(x_train_log,y_train_log)\n",
    "\n",
    "ridge_reg = Ridge()\n",
    "ridge_reg.fit(x_train_log, y_train_log)\n",
    "\n",
    "lasso_reg = Lasso()\n",
    "lasso_reg.fit(x_train_log, y_train_log)\n",
    "\n",
    "models = [lr_reg, ridge_reg, lasso_reg]\n",
    "get_rmses(models)"
   ]
  },
  {
   "cell_type": "code",
   "execution_count": 202,
   "id": "089c1131-d70c-4369-9dcd-aad49834ee89",
   "metadata": {
    "tags": []
   },
   "outputs": [],
   "source": [
    "def print_best_params(model,params):\n",
    "    from sklearn.model_selection import GridSearchCV\n",
    "    grid_model = GridSearchCV(model,\n",
    "                              param_grid=params,\n",
    "                              scoring='neg_mean_squared_error',\n",
    "                              cv=20)\n",
    "    grid_model.fit(x_train_log,y_train_log)\n",
    "    rmse = np.sqrt(-grid_model.best_score_)\n",
    "    print(f'최적 rmse:{rmse}, 최적 alpha :{grid_model.best_params_}')"
   ]
  },
  {
   "cell_type": "code",
   "execution_count": 208,
   "id": "e7b1b8a2-bd81-47a3-bc90-47c85659a2f7",
   "metadata": {
    "tags": []
   },
   "outputs": [
    {
     "name": "stdout",
     "output_type": "stream",
     "text": [
      "최적 rmse:0.04436486100956277, 최적 alpha :{'alpha': 0.01}\n",
      "최적 rmse:0.04537359670763961, 최적 alpha :{'alpha': 1e-05}\n"
     ]
    }
   ],
   "source": [
    "ridge_params = {'alpha':[0.001, 0.01, 0.1, 1, 10, 50, 100]}\n",
    "lasso_params = {'alpha':[0.00001, 0.0001, 0.001, 0.01, 0.05, 0.1, 1, 10]}\n",
    "print_best_params(ridge_reg,ridge_params)\n",
    "print_best_params(lasso_reg,lasso_params)"
   ]
  },
  {
   "cell_type": "code",
   "execution_count": 206,
   "id": "61bbcd56-af65-4b44-93cb-3392a6f0181d",
   "metadata": {
    "tags": []
   },
   "outputs": [
    {
     "name": "stdout",
     "output_type": "stream",
     "text": [
      "0.9240136067630562\n",
      "0.9115274487134518\n"
     ]
    }
   ],
   "source": [
    "ridge = Ridge(alpha=0.01)\n",
    "ridge.fit(x_train_log, y_train_log)\n",
    "print(ridge.score(x_train_log, y_train_log))\n",
    "print(ridge.score(x_test_log , y_test_log))"
   ]
  },
  {
   "cell_type": "code",
   "execution_count": 209,
   "id": "2b3ce178-ad20-4886-863d-c30326f1db47",
   "metadata": {
    "tags": []
   },
   "outputs": [
    {
     "name": "stdout",
     "output_type": "stream",
     "text": [
      "0.9200359645464238\n",
      "0.9075803461498335\n"
     ]
    }
   ],
   "source": [
    "lasso = Lasso(alpha=0.00001)\n",
    "lasso.fit(x_train_log, y_train_log)\n",
    "print(lasso.score(x_train_log, y_train_log))\n",
    "print(lasso.score(x_test_log, y_test_log))"
   ]
  },
  {
   "cell_type": "code",
   "execution_count": null,
   "id": "641ddd74-d93e-43dd-9cca-df6cedf9dd07",
   "metadata": {},
   "outputs": [],
   "source": []
  }
 ],
 "metadata": {
  "kernelspec": {
   "display_name": "Python 3 (ipykernel)",
   "language": "python",
   "name": "python3"
  },
  "language_info": {
   "codemirror_mode": {
    "name": "ipython",
    "version": 3
   },
   "file_extension": ".py",
   "mimetype": "text/x-python",
   "name": "python",
   "nbconvert_exporter": "python",
   "pygments_lexer": "ipython3",
   "version": "3.11.1"
  }
 },
 "nbformat": 4,
 "nbformat_minor": 5
}

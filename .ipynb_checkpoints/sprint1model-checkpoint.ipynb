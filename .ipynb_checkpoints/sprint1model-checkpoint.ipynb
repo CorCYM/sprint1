{
 "cells": [
  {
   "cell_type": "code",
   "execution_count": 1,
   "id": "06cda584-2b96-497e-99c1-1152dffd4b1d",
   "metadata": {
    "tags": []
   },
   "outputs": [],
   "source": [
    "from matplotlib import font_manager, rc\n",
    "import matplotlib\n",
    "import matplotlib.pyplot as plt\n",
    "import seaborn as sns\n",
    "import pandas as pd\n",
    "import numpy as np\n",
    "import platform\n",
    "from sklearn.linear_model import LinearRegression\n",
    "from sklearn.model_selection import train_test_split\n",
    "from sklearn.metrics import mean_squared_error, r2_score"
   ]
  },
  {
   "cell_type": "code",
   "execution_count": 2,
   "id": "f300072e-53e5-4dac-bcab-2415d56c2db8",
   "metadata": {
    "tags": []
   },
   "outputs": [
    {
     "data": {
      "text/html": [
       "<div>\n",
       "<style scoped>\n",
       "    .dataframe tbody tr th:only-of-type {\n",
       "        vertical-align: middle;\n",
       "    }\n",
       "\n",
       "    .dataframe tbody tr th {\n",
       "        vertical-align: top;\n",
       "    }\n",
       "\n",
       "    .dataframe thead th {\n",
       "        text-align: right;\n",
       "    }\n",
       "</style>\n",
       "<table border=\"1\" class=\"dataframe\">\n",
       "  <thead>\n",
       "    <tr style=\"text-align: right;\">\n",
       "      <th></th>\n",
       "      <th>날짜</th>\n",
       "      <th>시간</th>\n",
       "      <th>기온(°C)</th>\n",
       "      <th>강수량(mm)</th>\n",
       "      <th>풍속(m/s)</th>\n",
       "      <th>습도(%)</th>\n",
       "    </tr>\n",
       "  </thead>\n",
       "  <tbody>\n",
       "    <tr>\n",
       "      <th>0</th>\n",
       "      <td>2017-06-01</td>\n",
       "      <td>0:00</td>\n",
       "      <td>21.4</td>\n",
       "      <td>0.0</td>\n",
       "      <td>1.8</td>\n",
       "      <td>74.0</td>\n",
       "    </tr>\n",
       "    <tr>\n",
       "      <th>1</th>\n",
       "      <td>2017-06-01</td>\n",
       "      <td>1:00</td>\n",
       "      <td>21.5</td>\n",
       "      <td>0.0</td>\n",
       "      <td>0.9</td>\n",
       "      <td>75.0</td>\n",
       "    </tr>\n",
       "    <tr>\n",
       "      <th>2</th>\n",
       "      <td>2017-06-01</td>\n",
       "      <td>2:00</td>\n",
       "      <td>21.3</td>\n",
       "      <td>0.0</td>\n",
       "      <td>1.7</td>\n",
       "      <td>77.0</td>\n",
       "    </tr>\n",
       "    <tr>\n",
       "      <th>3</th>\n",
       "      <td>2017-06-01</td>\n",
       "      <td>3:00</td>\n",
       "      <td>20.9</td>\n",
       "      <td>0.0</td>\n",
       "      <td>2.4</td>\n",
       "      <td>81.0</td>\n",
       "    </tr>\n",
       "    <tr>\n",
       "      <th>4</th>\n",
       "      <td>2017-06-01</td>\n",
       "      <td>4:00</td>\n",
       "      <td>20.6</td>\n",
       "      <td>0.0</td>\n",
       "      <td>1.1</td>\n",
       "      <td>82.0</td>\n",
       "    </tr>\n",
       "    <tr>\n",
       "      <th>...</th>\n",
       "      <td>...</td>\n",
       "      <td>...</td>\n",
       "      <td>...</td>\n",
       "      <td>...</td>\n",
       "      <td>...</td>\n",
       "      <td>...</td>\n",
       "    </tr>\n",
       "    <tr>\n",
       "      <th>11035</th>\n",
       "      <td>2021-08-31</td>\n",
       "      <td>19:00</td>\n",
       "      <td>18.1</td>\n",
       "      <td>3.8</td>\n",
       "      <td>3.9</td>\n",
       "      <td>98.0</td>\n",
       "    </tr>\n",
       "    <tr>\n",
       "      <th>11036</th>\n",
       "      <td>2021-08-31</td>\n",
       "      <td>20:00</td>\n",
       "      <td>18.1</td>\n",
       "      <td>1.6</td>\n",
       "      <td>4.3</td>\n",
       "      <td>99.0</td>\n",
       "    </tr>\n",
       "    <tr>\n",
       "      <th>11037</th>\n",
       "      <td>2021-08-31</td>\n",
       "      <td>21:00</td>\n",
       "      <td>18.1</td>\n",
       "      <td>3.6</td>\n",
       "      <td>3.8</td>\n",
       "      <td>99.0</td>\n",
       "    </tr>\n",
       "    <tr>\n",
       "      <th>11038</th>\n",
       "      <td>2021-08-31</td>\n",
       "      <td>22:00</td>\n",
       "      <td>18.3</td>\n",
       "      <td>2.1</td>\n",
       "      <td>3.3</td>\n",
       "      <td>100.0</td>\n",
       "    </tr>\n",
       "    <tr>\n",
       "      <th>11039</th>\n",
       "      <td>2021-08-31</td>\n",
       "      <td>23:00</td>\n",
       "      <td>18.5</td>\n",
       "      <td>7.8</td>\n",
       "      <td>2.6</td>\n",
       "      <td>100.0</td>\n",
       "    </tr>\n",
       "  </tbody>\n",
       "</table>\n",
       "<p>11040 rows × 6 columns</p>\n",
       "</div>"
      ],
      "text/plain": [
       "               날짜     시간  기온(°C)  강수량(mm)  풍속(m/s)  습도(%)\n",
       "0      2017-06-01   0:00    21.4      0.0      1.8   74.0\n",
       "1      2017-06-01   1:00    21.5      0.0      0.9   75.0\n",
       "2      2017-06-01   2:00    21.3      0.0      1.7   77.0\n",
       "3      2017-06-01   3:00    20.9      0.0      2.4   81.0\n",
       "4      2017-06-01   4:00    20.6      0.0      1.1   82.0\n",
       "...           ...    ...     ...      ...      ...    ...\n",
       "11035  2021-08-31  19:00    18.1      3.8      3.9   98.0\n",
       "11036  2021-08-31  20:00    18.1      1.6      4.3   99.0\n",
       "11037  2021-08-31  21:00    18.1      3.6      3.8   99.0\n",
       "11038  2021-08-31  22:00    18.3      2.1      3.3  100.0\n",
       "11039  2021-08-31  23:00    18.5      7.8      2.6  100.0\n",
       "\n",
       "[11040 rows x 6 columns]"
      ]
     },
     "execution_count": 2,
     "metadata": {},
     "output_type": "execute_result"
    }
   ],
   "source": [
    "tem1721 = pd.read_csv(\"data/5년기온데이터_전처리.csv\").drop(['Unnamed: 0'], axis=1)\n",
    "tem17210608 = tem1721[tem1721['날짜'].str.contains(\n",
    "    \"2017-06|2017-07|2017-08|2018-06|2018-07|2018-08|2019-06|2019-07|2019-08|2020-06|2020-07|2020-08|2021-06|2021-07|2021-08\")].reset_index()\n",
    "tem17210608.drop('index',axis=1, inplace=True)\n",
    "# tem17210608 = tem17210608[tem17210608[\"기온(°C)\"] > 12]\n",
    "tem17210608"
   ]
  },
  {
   "cell_type": "code",
   "execution_count": 3,
   "id": "98c56cc6-e333-4166-a900-0b72b57d094b",
   "metadata": {
    "tags": []
   },
   "outputs": [
    {
     "data": {
      "text/html": [
       "<div>\n",
       "<style scoped>\n",
       "    .dataframe tbody tr th:only-of-type {\n",
       "        vertical-align: middle;\n",
       "    }\n",
       "\n",
       "    .dataframe tbody tr th {\n",
       "        vertical-align: top;\n",
       "    }\n",
       "\n",
       "    .dataframe thead th {\n",
       "        text-align: right;\n",
       "    }\n",
       "</style>\n",
       "<table border=\"1\" class=\"dataframe\">\n",
       "  <thead>\n",
       "    <tr style=\"text-align: right;\">\n",
       "      <th></th>\n",
       "      <th>날짜</th>\n",
       "      <th>시간</th>\n",
       "      <th>수요량</th>\n",
       "    </tr>\n",
       "  </thead>\n",
       "  <tbody>\n",
       "    <tr>\n",
       "      <th>0</th>\n",
       "      <td>2017-06-01</td>\n",
       "      <td>00:00</td>\n",
       "      <td>58038</td>\n",
       "    </tr>\n",
       "    <tr>\n",
       "      <th>1</th>\n",
       "      <td>2017-06-01</td>\n",
       "      <td>01:00</td>\n",
       "      <td>54763</td>\n",
       "    </tr>\n",
       "    <tr>\n",
       "      <th>2</th>\n",
       "      <td>2017-06-01</td>\n",
       "      <td>02:00</td>\n",
       "      <td>52836</td>\n",
       "    </tr>\n",
       "    <tr>\n",
       "      <th>3</th>\n",
       "      <td>2017-06-01</td>\n",
       "      <td>03:00</td>\n",
       "      <td>51956</td>\n",
       "    </tr>\n",
       "    <tr>\n",
       "      <th>4</th>\n",
       "      <td>2017-06-01</td>\n",
       "      <td>04:00</td>\n",
       "      <td>51299</td>\n",
       "    </tr>\n",
       "    <tr>\n",
       "      <th>...</th>\n",
       "      <td>...</td>\n",
       "      <td>...</td>\n",
       "      <td>...</td>\n",
       "    </tr>\n",
       "    <tr>\n",
       "      <th>11035</th>\n",
       "      <td>2021-08-31</td>\n",
       "      <td>19:00</td>\n",
       "      <td>74786</td>\n",
       "    </tr>\n",
       "    <tr>\n",
       "      <th>11036</th>\n",
       "      <td>2021-08-31</td>\n",
       "      <td>20:00</td>\n",
       "      <td>74099</td>\n",
       "    </tr>\n",
       "    <tr>\n",
       "      <th>11037</th>\n",
       "      <td>2021-08-31</td>\n",
       "      <td>21:00</td>\n",
       "      <td>71232</td>\n",
       "    </tr>\n",
       "    <tr>\n",
       "      <th>11038</th>\n",
       "      <td>2021-08-31</td>\n",
       "      <td>22:00</td>\n",
       "      <td>68114</td>\n",
       "    </tr>\n",
       "    <tr>\n",
       "      <th>11039</th>\n",
       "      <td>2021-08-31</td>\n",
       "      <td>23:00</td>\n",
       "      <td>64780</td>\n",
       "    </tr>\n",
       "  </tbody>\n",
       "</table>\n",
       "<p>11040 rows × 3 columns</p>\n",
       "</div>"
      ],
      "text/plain": [
       "               날짜     시간    수요량\n",
       "0      2017-06-01  00:00  58038\n",
       "1      2017-06-01  01:00  54763\n",
       "2      2017-06-01  02:00  52836\n",
       "3      2017-06-01  03:00  51956\n",
       "4      2017-06-01  04:00  51299\n",
       "...           ...    ...    ...\n",
       "11035  2021-08-31  19:00  74786\n",
       "11036  2021-08-31  20:00  74099\n",
       "11037  2021-08-31  21:00  71232\n",
       "11038  2021-08-31  22:00  68114\n",
       "11039  2021-08-31  23:00  64780\n",
       "\n",
       "[11040 rows x 3 columns]"
      ]
     },
     "execution_count": 3,
     "metadata": {},
     "output_type": "execute_result"
    }
   ],
   "source": [
    "elec1721=pd.read_csv(\"data/fintime17_21_df.csv\")\n",
    "elec17210608 = elec1721[elec1721['날짜'].str.contains(\n",
    "    \"2017-06|2017-07|2017-08|2018-06|2018-07|2018-08|2019-06|2019-07|2019-08|2020-06|2020-07|2020-08|2021-06|2021-07|2021-08\")].reset_index()\n",
    "elec17210608.drop('index',axis=1, inplace=True)\n",
    "elec17210608"
   ]
  },
  {
   "cell_type": "code",
   "execution_count": 4,
   "id": "9d698323-f8c8-4fa6-b99b-9b3ac9f75d38",
   "metadata": {
    "tags": []
   },
   "outputs": [],
   "source": [
    "tem17210608.drop(['시간'], axis=1, inplace=True)\n",
    "elec17210608.drop(['날짜'], axis=1, inplace=True)"
   ]
  },
  {
   "cell_type": "code",
   "execution_count": 5,
   "id": "4f8d4bab-1982-4947-ba19-f07d4d9020ae",
   "metadata": {
    "tags": []
   },
   "outputs": [
    {
     "data": {
      "text/html": [
       "<div>\n",
       "<style scoped>\n",
       "    .dataframe tbody tr th:only-of-type {\n",
       "        vertical-align: middle;\n",
       "    }\n",
       "\n",
       "    .dataframe tbody tr th {\n",
       "        vertical-align: top;\n",
       "    }\n",
       "\n",
       "    .dataframe thead th {\n",
       "        text-align: right;\n",
       "    }\n",
       "</style>\n",
       "<table border=\"1\" class=\"dataframe\">\n",
       "  <thead>\n",
       "    <tr style=\"text-align: right;\">\n",
       "      <th></th>\n",
       "      <th>날짜</th>\n",
       "      <th>기온(°C)</th>\n",
       "      <th>강수량(mm)</th>\n",
       "      <th>풍속(m/s)</th>\n",
       "      <th>습도(%)</th>\n",
       "      <th>시간</th>\n",
       "      <th>수요량</th>\n",
       "    </tr>\n",
       "  </thead>\n",
       "  <tbody>\n",
       "    <tr>\n",
       "      <th>0</th>\n",
       "      <td>2017-06-01</td>\n",
       "      <td>21.4</td>\n",
       "      <td>0.0</td>\n",
       "      <td>1.8</td>\n",
       "      <td>74.0</td>\n",
       "      <td>00:00</td>\n",
       "      <td>58038</td>\n",
       "    </tr>\n",
       "    <tr>\n",
       "      <th>1</th>\n",
       "      <td>2017-06-01</td>\n",
       "      <td>21.5</td>\n",
       "      <td>0.0</td>\n",
       "      <td>0.9</td>\n",
       "      <td>75.0</td>\n",
       "      <td>01:00</td>\n",
       "      <td>54763</td>\n",
       "    </tr>\n",
       "    <tr>\n",
       "      <th>2</th>\n",
       "      <td>2017-06-01</td>\n",
       "      <td>21.3</td>\n",
       "      <td>0.0</td>\n",
       "      <td>1.7</td>\n",
       "      <td>77.0</td>\n",
       "      <td>02:00</td>\n",
       "      <td>52836</td>\n",
       "    </tr>\n",
       "    <tr>\n",
       "      <th>3</th>\n",
       "      <td>2017-06-01</td>\n",
       "      <td>20.9</td>\n",
       "      <td>0.0</td>\n",
       "      <td>2.4</td>\n",
       "      <td>81.0</td>\n",
       "      <td>03:00</td>\n",
       "      <td>51956</td>\n",
       "    </tr>\n",
       "    <tr>\n",
       "      <th>4</th>\n",
       "      <td>2017-06-01</td>\n",
       "      <td>20.6</td>\n",
       "      <td>0.0</td>\n",
       "      <td>1.1</td>\n",
       "      <td>82.0</td>\n",
       "      <td>04:00</td>\n",
       "      <td>51299</td>\n",
       "    </tr>\n",
       "    <tr>\n",
       "      <th>...</th>\n",
       "      <td>...</td>\n",
       "      <td>...</td>\n",
       "      <td>...</td>\n",
       "      <td>...</td>\n",
       "      <td>...</td>\n",
       "      <td>...</td>\n",
       "      <td>...</td>\n",
       "    </tr>\n",
       "    <tr>\n",
       "      <th>11035</th>\n",
       "      <td>2021-08-31</td>\n",
       "      <td>18.1</td>\n",
       "      <td>3.8</td>\n",
       "      <td>3.9</td>\n",
       "      <td>98.0</td>\n",
       "      <td>19:00</td>\n",
       "      <td>74786</td>\n",
       "    </tr>\n",
       "    <tr>\n",
       "      <th>11036</th>\n",
       "      <td>2021-08-31</td>\n",
       "      <td>18.1</td>\n",
       "      <td>1.6</td>\n",
       "      <td>4.3</td>\n",
       "      <td>99.0</td>\n",
       "      <td>20:00</td>\n",
       "      <td>74099</td>\n",
       "    </tr>\n",
       "    <tr>\n",
       "      <th>11037</th>\n",
       "      <td>2021-08-31</td>\n",
       "      <td>18.1</td>\n",
       "      <td>3.6</td>\n",
       "      <td>3.8</td>\n",
       "      <td>99.0</td>\n",
       "      <td>21:00</td>\n",
       "      <td>71232</td>\n",
       "    </tr>\n",
       "    <tr>\n",
       "      <th>11038</th>\n",
       "      <td>2021-08-31</td>\n",
       "      <td>18.3</td>\n",
       "      <td>2.1</td>\n",
       "      <td>3.3</td>\n",
       "      <td>100.0</td>\n",
       "      <td>22:00</td>\n",
       "      <td>68114</td>\n",
       "    </tr>\n",
       "    <tr>\n",
       "      <th>11039</th>\n",
       "      <td>2021-08-31</td>\n",
       "      <td>18.5</td>\n",
       "      <td>7.8</td>\n",
       "      <td>2.6</td>\n",
       "      <td>100.0</td>\n",
       "      <td>23:00</td>\n",
       "      <td>64780</td>\n",
       "    </tr>\n",
       "  </tbody>\n",
       "</table>\n",
       "<p>11040 rows × 7 columns</p>\n",
       "</div>"
      ],
      "text/plain": [
       "               날짜  기온(°C)  강수량(mm)  풍속(m/s)  습도(%)     시간    수요량\n",
       "0      2017-06-01    21.4      0.0      1.8   74.0  00:00  58038\n",
       "1      2017-06-01    21.5      0.0      0.9   75.0  01:00  54763\n",
       "2      2017-06-01    21.3      0.0      1.7   77.0  02:00  52836\n",
       "3      2017-06-01    20.9      0.0      2.4   81.0  03:00  51956\n",
       "4      2017-06-01    20.6      0.0      1.1   82.0  04:00  51299\n",
       "...           ...     ...      ...      ...    ...    ...    ...\n",
       "11035  2021-08-31    18.1      3.8      3.9   98.0  19:00  74786\n",
       "11036  2021-08-31    18.1      1.6      4.3   99.0  20:00  74099\n",
       "11037  2021-08-31    18.1      3.6      3.8   99.0  21:00  71232\n",
       "11038  2021-08-31    18.3      2.1      3.3  100.0  22:00  68114\n",
       "11039  2021-08-31    18.5      7.8      2.6  100.0  23:00  64780\n",
       "\n",
       "[11040 rows x 7 columns]"
      ]
     },
     "execution_count": 5,
     "metadata": {},
     "output_type": "execute_result"
    }
   ],
   "source": [
    "fin17210608 = pd.concat([tem17210608,elec17210608],axis=1)\n",
    "fin17210608"
   ]
  },
  {
   "cell_type": "code",
   "execution_count": 6,
   "id": "b19be310-3a55-4e56-996f-ed022dda55a2",
   "metadata": {
    "tags": []
   },
   "outputs": [
    {
     "data": {
      "image/png": "[encoded data removed]",
      "text/plain": [
       "<Figure size 640x480 with 1 Axes>"
      ]
     },
     "metadata": {},
     "output_type": "display_data"
    }
   ],
   "source": [
    "correlation = fin17210608['수요량'].corr(fin17210608['기온(°C)'])\n",
    "sns.scatterplot(x=fin17210608['기온(°C)'], y=fin17210608['수요량'])\n",
    "plt.title('correlation(상관계수): '+str(np.round(correlation,2)), fontsize=20)\n",
    "plt.xlabel(\"기온(°C)\",fontsize=12)\n",
    "plt.ylabel(\"수요량\",fontsize=12)\n",
    "plt.show()"
   ]
  },
  {
   "cell_type": "code",
   "execution_count": null,
   "id": "fa709d52-b391-4bd0-ae06-3bb4442f6a72",
   "metadata": {},
   "outputs": [],
   "source": []
  },
  {
   "cell_type": "code",
   "execution_count": 7,
   "id": "24c7ce76-efc8-48cd-b847-77829c98eacb",
   "metadata": {
    "tags": []
   },
   "outputs": [],
   "source": [
    "y = fin17210608['수요량']\n",
    "x = fin17210608.drop(columns=['날짜', '시간', '수요량'])"
   ]
  },
  {
   "cell_type": "code",
   "execution_count": 8,
   "id": "a0ca89a5-45f2-4fda-90d0-59b2af4a804d",
   "metadata": {
    "tags": []
   },
   "outputs": [
    {
     "data": {
      "text/plain": [
       "(      기온(°C)  강수량(mm)  풍속(m/s)  습도(%)\n",
       " 2107    24.2      0.0      1.4   59.0\n",
       " 403     25.1      0.0      4.7   53.0\n",
       " 6320    23.1      0.0      1.2   72.0\n",
       " 56      17.8      0.0      3.4   48.0\n",
       " 9726    23.9      0.0      0.5   94.0\n",
       " ...      ...      ...      ...    ...\n",
       " 5293    30.4      0.0      2.4   33.0\n",
       " 8557    31.3      0.0      1.6   60.0\n",
       " 7479    29.8      0.0      1.7   51.0\n",
       " 7614    22.3      0.0      2.4   60.0\n",
       " 8328    24.7      9.8      3.6   96.0\n",
       " \n",
       " [7728 rows x 4 columns],\n",
       "        기온(°C)  강수량(mm)  풍속(m/s)  습도(%)\n",
       " 8552     25.7      0.0      0.4   87.0\n",
       " 5886     24.0      0.0      0.4   96.0\n",
       " 6761     29.1      0.0      3.8   52.0\n",
       " 10677    26.2      0.0      2.1   74.0\n",
       " 4308     22.6      1.0      1.4   90.0\n",
       " ...       ...      ...      ...    ...\n",
       " 2085     24.2      0.0      2.3   62.0\n",
       " 4010     29.5      0.0      0.4   68.0\n",
       " 9115     27.8      0.0      1.9   63.0\n",
       " 2047     22.5      0.0      1.1   92.0\n",
       " 1668     28.8      0.0      2.4   53.0\n",
       " \n",
       " [3312 rows x 4 columns],\n",
       " 2107    58646\n",
       " 403     58513\n",
       " 6320    61579\n",
       " 56      52285\n",
       " 9726    58582\n",
       "         ...  \n",
       " 5293    56469\n",
       " 8557    79301\n",
       " 7479    72457\n",
       " 7614    48105\n",
       " 8328    64961\n",
       " Name: 수요량, Length: 7728, dtype: int64,\n",
       " 8552     67193\n",
       " 5886     56076\n",
       " 6761     56500\n",
       " 10677    73137\n",
       " 4308     75983\n",
       "          ...  \n",
       " 2085     61452\n",
       " 4010     65975\n",
       " 9115     61648\n",
       " 2047     59679\n",
       " 1668     79504\n",
       " Name: 수요량, Length: 3312, dtype: int64)"
      ]
     },
     "execution_count": 8,
     "metadata": {},
     "output_type": "execute_result"
    }
   ],
   "source": [
    "x_train, x_test, y_train, y_test = train_test_split(x,y, test_size=0.3)\n",
    "x_train, x_test, y_train, y_test"
   ]
  },
  {
   "cell_type": "code",
   "execution_count": 9,
   "id": "ab1bb655-359f-40d4-9c9d-c4e8ee64f00e",
   "metadata": {
    "tags": []
   },
   "outputs": [
    {
     "name": "stdout",
     "output_type": "stream",
     "text": [
      "mse:53647820.92309126, rmse:7324.467279133088, r2:0.45478178485716003\n"
     ]
    }
   ],
   "source": [
    "lr = LinearRegression()\n",
    "lr.fit(x_train, y_train)\n",
    "y_pred = lr.predict(x_test)\n",
    "mse = mean_squared_error(y_test, y_pred)\n",
    "rmse = np.sqrt(mse)\n",
    "r2 = r2_score(y_test, y_pred)\n",
    "print(f'mse:{mse}, rmse:{rmse}, r2:{r2}')"
   ]
  },
  {
   "cell_type": "code",
   "execution_count": 10,
   "id": "fce4c58d-a3da-45c9-b567-350e06e51b39",
   "metadata": {
    "tags": []
   },
   "outputs": [
    {
     "name": "stdout",
     "output_type": "stream",
     "text": [
      "절편(바이어스):15354.366189239721, \n",
      "회귀계수(가중치):[1692.5  123.5 1132.2   57.7]\n"
     ]
    }
   ],
   "source": [
    "print(f'절편(바이어스):{lr.intercept_}, \\n회귀계수(가중치):{np.round(lr.coef_, 1)}')"
   ]
  },
  {
   "cell_type": "code",
   "execution_count": 11,
   "id": "5d7ef84d-df42-4ae0-ae9e-ec3e2e37fefc",
   "metadata": {
    "tags": []
   },
   "outputs": [
    {
     "data": {
      "text/plain": [
       "기온(°C)     1692.5\n",
       "풍속(m/s)    1132.2\n",
       "강수량(mm)     123.5\n",
       "습도(%)        57.7\n",
       "dtype: float64"
      ]
     },
     "execution_count": 11,
     "metadata": {},
     "output_type": "execute_result"
    }
   ],
   "source": [
    "coeff = pd.Series(data=np.round(lr.coef_, 1), index=x.columns)\n",
    "coeff.sort_values(ascending=False)"
   ]
  },
  {
   "cell_type": "code",
   "execution_count": 12,
   "id": "92ed19e6-68b7-4247-bb96-46f9853eff89",
   "metadata": {
    "tags": []
   },
   "outputs": [],
   "source": [
    "from sklearn.model_selection import cross_val_score"
   ]
  },
  {
   "cell_type": "code",
   "execution_count": 13,
   "id": "5ed1fab7-f415-4be8-b49a-6ca572b69935",
   "metadata": {
    "tags": []
   },
   "outputs": [
    {
     "data": {
      "text/plain": [
       "7379.143026419205"
      ]
     },
     "execution_count": 13,
     "metadata": {},
     "output_type": "execute_result"
    }
   ],
   "source": [
    "lr = LinearRegression()\n",
    "y = fin17210608['수요량']\n",
    "x = fin17210608.drop(columns=['날짜', '시간', '수요량'])\n",
    "neg_mse = cross_val_score(lr,x,y,scoring='neg_mean_squared_error', cv=5)\n",
    "mse = -neg_mse\n",
    "rmse = np.sqrt(mse)\n",
    "np.mean(rmse)"
   ]
  },
  {
   "cell_type": "code",
   "execution_count": null,
   "id": "603482cc-f5ed-4674-9852-9bf6b5ee1eb4",
   "metadata": {},
   "outputs": [],
   "source": []
  }
 ],
 "metadata": {
  "kernelspec": {
   "display_name": "Python 3 (ipykernel)",
   "language": "python",
   "name": "python3"
  },
  "language_info": {
   "codemirror_mode": {
    "name": "ipython",
    "version": 3
   },
   "file_extension": ".py",
   "mimetype": "text/x-python",
   "name": "python",
   "nbconvert_exporter": "python",
   "pygments_lexer": "ipython3",
   "version": "3.11.1"
  }
 },
 "nbformat": 4,
 "nbformat_minor": 5
}
